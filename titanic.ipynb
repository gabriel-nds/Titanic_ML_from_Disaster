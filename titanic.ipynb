{
 "cells": [
  {
   "attachments": {},
   "cell_type": "markdown",
   "metadata": {},
   "source": [
    "# Titanic Survival Prediction"
   ]
  },
  {
   "attachments": {},
   "cell_type": "markdown",
   "metadata": {},
   "source": [
    "Welcome to the Titanic Survival Prediction notebook! In this project, we aim to predict the survival outcome of passengers aboard the ill-fated RMS Titanic. By leveraging machine learning techniques, we'll analyze various features to make informed predictions about who survived the disaster.\n",
    "\n"
   ]
  },
  {
   "attachments": {},
   "cell_type": "markdown",
   "metadata": {},
   "source": [
    "### Notebook Structure"
   ]
  },
  {
   "attachments": {},
   "cell_type": "markdown",
   "metadata": {},
   "source": [
    "This notebook is organized into several sections, each serving a specific purpose:\n",
    "\n",
    "- Import Necessary Libraries: We begin by importing the Python libraries and modules required for data manipulation, visualization, and modeling. These tools will help us conduct a comprehensive analysis and build predictive models.\n",
    "\n",
    "- Loading the Training Dataset: Here, we load the training dataset, which contains valuable information about the passengers, including whether they survived or not. This data will serve as the foundation for our analysis and model training.\n",
    "\n",
    "- Exploring Feature-Target Correlation: Before diving into modeling, we explore the correlation between various features and the target variable (survival). This step helps us identify which features are likely to be influential in predicting survival.\n",
    "\n",
    "- Splitting the Dataset: The dataset is divided into training and testing subsets. The training data is used to train our machine learning models, while the testing data is reserved for evaluating their performance.\n",
    "\n",
    "- Preprocessing the Train Data: This section focuses on data preprocessing, including handling missing values, dropping unnecessary columns ('PassengerId' and 'Ticket'), and feature engineering. We create and modify features to improve the predictive power of our models.\n",
    "\n",
    "- Encoding and Standardization: To make the data suitable for machine learning algorithms, we encode categorical features and standardize numerical features. This ensures that all features have a consistent format.\n",
    "\n",
    "- Training the Data: With the preprocessed data in hand, we train various machine learning models, such as Logistic Regression, Random Forest, SVM, and more. We evaluate their performance and choose the best-performing model for predictions.\n",
    "\n",
    "- Preprocessing the Test Data: Similar to the training data, we preprocess the test dataset to prepare it for predictions.\n",
    "\n",
    "- Making Predictions: Using our trained model, we make predictions on the test data to determine the survival outcome of passengers in the unseen dataset.\n",
    "\n",
    "- Creating File to Submit on Kaggle: Finally, we format the predictions and create a submission file that can be uploaded to Kaggle to assess the model's performance on the competition leaderboard.\n",
    "\n",
    "This notebook guides you through each step of the Titanic survival prediction project, from data exploration to model training and evaluation. We hope you find this analysis informative and engaging as we embark on this data science journey together.\n",
    "\n",
    "Let's get started by importing the necessary libraries!"
   ]
  },
  {
   "attachments": {},
   "cell_type": "markdown",
   "metadata": {},
   "source": [
    "### Import Necessary Libraries"
   ]
  },
  {
   "attachments": {},
   "cell_type": "markdown",
   "metadata": {},
   "source": [
    "In this section of the code, we start by importing the essential libraries required for our Titanic challenge solution. These libraries serve as the foundation for various tasks such as data manipulation, visualization, and machine learning model building."
   ]
  },
  {
   "cell_type": "code",
   "execution_count": 4,
   "metadata": {},
   "outputs": [],
   "source": [
    "# Data Analysis and Visualization Libraries\n",
    "import pandas as pd\n",
    "import numpy as np\n",
    "import matplotlib.pyplot as plt\n",
    "import seaborn as sns\n",
    "import plotly.express as px\n",
    "\n",
    "# Machine Learning Models and Utilities\n",
    "from xgboost import XGBClassifier\n",
    "from sklearn.model_selection import train_test_split, GridSearchCV, cross_val_score\n",
    "from sklearn.preprocessing import StandardScaler\n",
    "from sklearn.linear_model import LogisticRegression, SGDClassifier, Perceptron\n",
    "from sklearn.ensemble import RandomForestClassifier\n",
    "from sklearn.svm import SVC\n",
    "from sklearn.neighbors import KNeighborsClassifier\n",
    "from sklearn.tree import DecisionTreeClassifier\n",
    "from sklearn.naive_bayes import GaussianNB\n",
    "\n",
    "# Data Preprocessing and Encoding\n",
    "from category_encoders import BinaryEncoder\n",
    "from sklearn.compose import ColumnTransformer\n",
    "from sklearn.preprocessing import OneHotEncoder\n",
    "\n",
    "# Model Evaluation Metrics\n",
    "from sklearn.metrics import accuracy_score, precision_score, recall_score, f1_score\n",
    "\n",
    "# Dimensionality Reduction\n",
    "from sklearn.decomposition import PCA\n",
    "\n",
    "# Statistical Tests\n",
    "from scipy.stats import chi2_contingency\n",
    "\n",
    "# Pipeline and Column Transformation\n",
    "from sklearn.pipeline import Pipeline\n",
    "\n",
    "# Transformers and encoders\n",
    "from sklearn.compose import ColumnTransformer\n",
    "from sklearn.preprocessing import OneHotEncoder, StandardScaler\n"
   ]
  },
  {
   "attachments": {},
   "cell_type": "markdown",
   "metadata": {},
   "source": [
    "### Loading the Training Dataset"
   ]
  },
  {
   "attachments": {},
   "cell_type": "markdown",
   "metadata": {},
   "source": [
    "Let's load the training dataset from a CSV file into a Pandas DataFrame named train. This dataset contains essential information about Titanic passengers, serving as the foundation for our analysis and predictive modeling. The data is read from the specified file path using Pandas' pd.read_csv() function."
   ]
  },
  {
   "cell_type": "code",
   "execution_count": 5,
   "metadata": {},
   "outputs": [],
   "source": [
    "# Load Titanic dataset from a CSV file into a Pandas DataFrame\n",
    "train = pd.read_csv('/Users/gabriel/Library/CloudStorage/OneDrive-Pessoal/Data_Science/Projetos/Titanic Survival Prediction /Titanic_ML_from_Disaster/train.csv')"
   ]
  },
  {
   "cell_type": "code",
   "execution_count": 6,
   "metadata": {},
   "outputs": [
    {
     "data": {
      "text/html": [
       "<div>\n",
       "<style scoped>\n",
       "    .dataframe tbody tr th:only-of-type {\n",
       "        vertical-align: middle;\n",
       "    }\n",
       "\n",
       "    .dataframe tbody tr th {\n",
       "        vertical-align: top;\n",
       "    }\n",
       "\n",
       "    .dataframe thead th {\n",
       "        text-align: right;\n",
       "    }\n",
       "</style>\n",
       "<table border=\"1\" class=\"dataframe\">\n",
       "  <thead>\n",
       "    <tr style=\"text-align: right;\">\n",
       "      <th></th>\n",
       "      <th>PassengerId</th>\n",
       "      <th>Survived</th>\n",
       "      <th>Pclass</th>\n",
       "      <th>Name</th>\n",
       "      <th>Sex</th>\n",
       "      <th>Age</th>\n",
       "      <th>SibSp</th>\n",
       "      <th>Parch</th>\n",
       "      <th>Ticket</th>\n",
       "      <th>Fare</th>\n",
       "      <th>Cabin</th>\n",
       "      <th>Embarked</th>\n",
       "    </tr>\n",
       "  </thead>\n",
       "  <tbody>\n",
       "    <tr>\n",
       "      <th>0</th>\n",
       "      <td>1</td>\n",
       "      <td>0</td>\n",
       "      <td>3</td>\n",
       "      <td>Braund, Mr. Owen Harris</td>\n",
       "      <td>male</td>\n",
       "      <td>22.0</td>\n",
       "      <td>1</td>\n",
       "      <td>0</td>\n",
       "      <td>A/5 21171</td>\n",
       "      <td>7.2500</td>\n",
       "      <td>NaN</td>\n",
       "      <td>S</td>\n",
       "    </tr>\n",
       "    <tr>\n",
       "      <th>1</th>\n",
       "      <td>2</td>\n",
       "      <td>1</td>\n",
       "      <td>1</td>\n",
       "      <td>Cumings, Mrs. John Bradley (Florence Briggs Th...</td>\n",
       "      <td>female</td>\n",
       "      <td>38.0</td>\n",
       "      <td>1</td>\n",
       "      <td>0</td>\n",
       "      <td>PC 17599</td>\n",
       "      <td>71.2833</td>\n",
       "      <td>C85</td>\n",
       "      <td>C</td>\n",
       "    </tr>\n",
       "    <tr>\n",
       "      <th>2</th>\n",
       "      <td>3</td>\n",
       "      <td>1</td>\n",
       "      <td>3</td>\n",
       "      <td>Heikkinen, Miss. Laina</td>\n",
       "      <td>female</td>\n",
       "      <td>26.0</td>\n",
       "      <td>0</td>\n",
       "      <td>0</td>\n",
       "      <td>STON/O2. 3101282</td>\n",
       "      <td>7.9250</td>\n",
       "      <td>NaN</td>\n",
       "      <td>S</td>\n",
       "    </tr>\n",
       "    <tr>\n",
       "      <th>3</th>\n",
       "      <td>4</td>\n",
       "      <td>1</td>\n",
       "      <td>1</td>\n",
       "      <td>Futrelle, Mrs. Jacques Heath (Lily May Peel)</td>\n",
       "      <td>female</td>\n",
       "      <td>35.0</td>\n",
       "      <td>1</td>\n",
       "      <td>0</td>\n",
       "      <td>113803</td>\n",
       "      <td>53.1000</td>\n",
       "      <td>C123</td>\n",
       "      <td>S</td>\n",
       "    </tr>\n",
       "    <tr>\n",
       "      <th>4</th>\n",
       "      <td>5</td>\n",
       "      <td>0</td>\n",
       "      <td>3</td>\n",
       "      <td>Allen, Mr. William Henry</td>\n",
       "      <td>male</td>\n",
       "      <td>35.0</td>\n",
       "      <td>0</td>\n",
       "      <td>0</td>\n",
       "      <td>373450</td>\n",
       "      <td>8.0500</td>\n",
       "      <td>NaN</td>\n",
       "      <td>S</td>\n",
       "    </tr>\n",
       "  </tbody>\n",
       "</table>\n",
       "</div>"
      ],
      "text/plain": [
       "   PassengerId  Survived  Pclass  \\\n",
       "0            1         0       3   \n",
       "1            2         1       1   \n",
       "2            3         1       3   \n",
       "3            4         1       1   \n",
       "4            5         0       3   \n",
       "\n",
       "                                                Name     Sex   Age  SibSp  \\\n",
       "0                            Braund, Mr. Owen Harris    male  22.0      1   \n",
       "1  Cumings, Mrs. John Bradley (Florence Briggs Th...  female  38.0      1   \n",
       "2                             Heikkinen, Miss. Laina  female  26.0      0   \n",
       "3       Futrelle, Mrs. Jacques Heath (Lily May Peel)  female  35.0      1   \n",
       "4                           Allen, Mr. William Henry    male  35.0      0   \n",
       "\n",
       "   Parch            Ticket     Fare Cabin Embarked  \n",
       "0      0         A/5 21171   7.2500   NaN        S  \n",
       "1      0          PC 17599  71.2833   C85        C  \n",
       "2      0  STON/O2. 3101282   7.9250   NaN        S  \n",
       "3      0            113803  53.1000  C123        S  \n",
       "4      0            373450   8.0500   NaN        S  "
      ]
     },
     "execution_count": 6,
     "metadata": {},
     "output_type": "execute_result"
    }
   ],
   "source": [
    "train.head()"
   ]
  },
  {
   "attachments": {},
   "cell_type": "markdown",
   "metadata": {},
   "source": [
    "This command provides a quick glimpse of the dataset's structure and its initial records. It helps in verifying data loading and gaining a preliminary understanding of the dataset's columns and values."
   ]
  },
  {
   "attachments": {},
   "cell_type": "markdown",
   "metadata": {},
   "source": [
    "### Exploring Feature-Target Correlation"
   ]
  },
  {
   "attachments": {},
   "cell_type": "markdown",
   "metadata": {},
   "source": [
    "To gain insights into the relationship between our dataset's features and the target variable, we start by examining the column names within our training dataset using the command train.columns. This step helps us identify which features might play a significant role in predicting passenger survival in the Titanic dataset."
   ]
  },
  {
   "cell_type": "code",
   "execution_count": 7,
   "metadata": {},
   "outputs": [
    {
     "data": {
      "text/plain": [
       "Index(['PassengerId', 'Survived', 'Pclass', 'Name', 'Sex', 'Age', 'SibSp',\n",
       "       'Parch', 'Ticket', 'Fare', 'Cabin', 'Embarked'],\n",
       "      dtype='object')"
      ]
     },
     "execution_count": 7,
     "metadata": {},
     "output_type": "execute_result"
    }
   ],
   "source": [
    "train.columns"
   ]
  },
  {
   "attachments": {},
   "cell_type": "markdown",
   "metadata": {},
   "source": [
    "Next, we will categorize the columns in our training dataset into three distinct groups, namely categorical_columns, numerical_columns, and the target_variable. This categorization is essential for data analysis and model building, as it helps us understand the nature of each column and its potential role in predicting passenger survival on the Titanic."
   ]
  },
  {
   "cell_type": "code",
   "execution_count": 8,
   "metadata": {},
   "outputs": [
    {
     "name": "stdout",
     "output_type": "stream",
     "text": [
      "Unique values in Sex: ['male' 'female']\n",
      "Unique values in Embarked: ['S' 'C' 'Q' nan]\n"
     ]
    }
   ],
   "source": [
    "categorical_columns = ['Sex', 'Embarked']\n",
    "numerical_columns = ['Age', 'Pclass', 'SibSp', 'Parch', 'Fare']\n",
    "target_variable = 'Survived'\n",
    "\n",
    "for column in categorical_columns:\n",
    "    unique_values = train[column].unique()\n",
    "    print(f\"Unique values in {column}: {unique_values}\")\n"
   ]
  },
  {
   "attachments": {},
   "cell_type": "markdown",
   "metadata": {},
   "source": [
    "- Categorical Columns: These columns represent categorical or discrete attributes in our dataset. In this case, we have identified two categorical columns, namely 'Sex' and 'Embarked.' Categorical columns contain non-numeric values that often represent categories or labels. For each of these columns, we print the unique values they contain to gain insights into the categories present in the data.\n",
    "\n",
    "- Numerical Columns: Numerical columns, on the other hand, consist of numeric data that can be used for mathematical operations. In our dataset, we have identified five numerical columns: 'Age,' 'Pclass' (passenger class), 'SibSp' (number of siblings or spouses aboard), 'Parch' (number of parents or children aboard), and 'Fare' (ticket fare). These columns will play a crucial role in our predictive modeling.\n",
    "\n",
    "- Target Variable: The 'Survived' column is designated as the target variable. This is the variable we aim to predict in our machine learning model. It indicates whether a passenger survived (1) or did not survive (0) the Titanic disaster.\n",
    "\n",
    "During our dataset exploration, we have made specific observations regarding certain columns. In particular:\n",
    "\n",
    "- 'Ticket': Additionally, it's worth noting that upon initial analysis, we have determined that the 'Ticket' column may not provide substantial insights or relevance to our prediction task. Therefore, we have decided to exclude it from the current analysis.\n",
    "\n",
    "- 'Name': Further, we acknowledge that the 'Name' column contains valuable information, such as passenger titles (e.g., Mr., Mrs., Dr.) that could potentially be relevant for further feature engineering. As a result, we plan to explore and process the 'Name' column in more detail in subsequent steps of our analysis.\n",
    "\n",
    "- 'Cabin': We plan to utilize the 'Cabin' information to group passengers into cabin categories or decks (e.g., A, B, C, etc.). This categorization will allow us to explore potential patterns related to cabin locations and their impact on passenger survival. We consider the 'Cabin' column as a categorical feature for this purpose.\n",
    "\n",
    "These decisions are driven by a deeper understanding of the dataset's context within the Titanic challenge and are aimed at optimizing the selection of features that will contribute most effectively to our predictive model."
   ]
  },
  {
   "attachments": {},
   "cell_type": "markdown",
   "metadata": {},
   "source": [
    "#### Categorical Variable Analysis"
   ]
  },
  {
   "attachments": {},
   "cell_type": "markdown",
   "metadata": {},
   "source": [
    "In this section, we analyze the relationship between two categorical variables, 'Sex' and 'Embarked,' and the target variable 'Survived' in the Titanic dataset."
   ]
  },
  {
   "cell_type": "code",
   "execution_count": 9,
   "metadata": {},
   "outputs": [
    {
     "name": "stdout",
     "output_type": "stream",
     "text": [
      "Sex vs Survived: Chi-square = 260.71702016732104, p-value = 1.1973570627755645e-58\n",
      "Embarked vs Survived: Chi-square = 26.48914983923762, p-value = 1.769922284120912e-06\n"
     ]
    }
   ],
   "source": [
    "for column in categorical_columns:\n",
    "    contingency_table = pd.crosstab(train[column], train['Survived'])\n",
    "    chi2, p_value, _, _ = chi2_contingency(contingency_table)\n",
    "    print(f\"{column} vs Survived: Chi-square = {chi2}, p-value = {p_value}\")"
   ]
  },
  {
   "attachments": {},
   "cell_type": "markdown",
   "metadata": {},
   "source": [
    "- 'Sex' vs. 'Survived: A chi-square test reveals a highly significant association (Chi-square = 260.72, p-value ≈ 0) between gender ('Sex') and passenger survival, indicating that gender is strongly related to survival outcomes.\n",
    "\n",
    "- 'Embarked' vs. 'Survived: Similarly, a chi-square test shows a statistically significant association (Chi-square = 26.49, p-value ≈ 0) between the port of embarkation ('Embarked') and passenger survival.\n",
    "\n",
    "These analyses help us understand how these categorical variables may influence the likelihood of survival and guide feature selection for our predictive model."
   ]
  },
  {
   "attachments": {},
   "cell_type": "markdown",
   "metadata": {},
   "source": [
    "#### Numerical Variable Analysis"
   ]
  },
  {
   "attachments": {},
   "cell_type": "markdown",
   "metadata": {},
   "source": [
    "Here, we perform a correlation analysis on key numerical variables ('Age,' 'Pclass,' 'SibSp,' 'Parch,' 'Fare') to assess their relationships with the target variable 'Survived.'\n",
    "\n"
   ]
  },
  {
   "cell_type": "code",
   "execution_count": 10,
   "metadata": {},
   "outputs": [
    {
     "name": "stdout",
     "output_type": "stream",
     "text": [
      "Age        -0.077221\n",
      "Pclass     -0.338481\n",
      "SibSp      -0.035322\n",
      "Parch       0.081629\n",
      "Fare        0.257307\n",
      "Survived    1.000000\n",
      "Name: Survived, dtype: float64\n"
     ]
    },
    {
     "data": {
      "image/png": "[encoded data removed]",
      "text/plain": [
       "<Figure size 1000x800 with 2 Axes>"
      ]
     },
     "metadata": {},
     "output_type": "display_data"
    }
   ],
   "source": [
    "# Calculate correlation matrix\n",
    "correlation_matrix = train[numerical_columns + [target_variable]].corr()\n",
    "\n",
    "# Extract the correlation coefficients with the target variable\n",
    "correlations = correlation_matrix[target_variable]\n",
    "print(correlations)\n",
    "\n",
    "# Plot the correlation matrix heatmap\n",
    "plt.figure(figsize=(10, 8))\n",
    "sns.heatmap(correlation_matrix, annot=True, cmap='YlGnBu')\n",
    "plt.title(\"Correlation Matrix - Numerical Variables vs. Survived\")\n",
    "plt.show()"
   ]
  },
  {
   "attachments": {},
   "cell_type": "markdown",
   "metadata": {},
   "source": [
    "The correlation analysis reveals important insights into the relationships between numerical variables and the target variable 'Survived' in the Titanic dataset:\n",
    "\n",
    "Negative Correlations:\n",
    "\n",
    "- 'Pclass' (Passenger Class) exhibits a significant negative correlation of approximately -0.34 with 'Survived.' This suggests that as the class number increases (e.g., from 1st class to 3rd class), the likelihood of survival decreases.\n",
    "- 'Age' shows a slight negative correlation of approximately -0.08 with 'Survived.' This implies that older passengers may have a slightly lower chance of survival.\n",
    "\n",
    "Positive Correlations:\n",
    "\n",
    "- 'Fare' (Ticket Fare) demonstrates a noteworthy positive correlation of approximately 0.26 with 'Survived.' This indicates that passengers who paid higher fares tend to have a higher likelihood of survival.\n",
    "- 'Parch' (Number of Parents/Children Aboard) displays a positive correlation of approximately 0.08 with 'Survived,' suggesting that passengers traveling with more family members rather than alone may have an increased chance of survival.\n",
    "\n",
    "Weak Correlations:\n",
    "\n",
    "- 'SibSp' (Number of Siblings/Spouses Aboard) shows a relatively weak negative correlation of approximately -0.04 with 'Survived.' This implies a modest impact on survival.\n",
    "\n",
    "These correlation findings provide valuable insights into the relationships between numerical features and passenger survival. They inform our feature selection process and help us choose the most relevant variables for building predictive models in the Titanic dataset analysis."
   ]
  },
  {
   "attachments": {},
   "cell_type": "markdown",
   "metadata": {},
   "source": [
    "### Spliting the Dataset"
   ]
  },
  {
   "attachments": {},
   "cell_type": "markdown",
   "metadata": {},
   "source": [
    "This section involves splitting our dataset into training and testing sets, a fundamental step in machine learning. We use scikit-learn's train_test_split function to create separate datasets for training and testing. The resulting datasets, X_train, X_test, y_train, and y_test, are used for model training and evaluation. These shapes indicate the size of each dataset, ensuring that we have the appropriate data for building and assessing our machine learning models.\n",
    "\n"
   ]
  },
  {
   "cell_type": "code",
   "execution_count": 11,
   "metadata": {},
   "outputs": [
    {
     "name": "stdout",
     "output_type": "stream",
     "text": [
      "X_train shape: (712, 11)\n",
      "X_test shape: (179, 11)\n",
      "y_train shape: (712,)\n",
      "y_test shape: (179,)\n"
     ]
    }
   ],
   "source": [
    "X = train.drop('Survived', axis=1)\n",
    "y = train['Survived']\n",
    "\n",
    "X_train, X_test, y_train, y_test = train_test_split(X, y, test_size=0.2, random_state=420)\n",
    "\n",
    "print(\"X_train shape:\", X_train.shape)\n",
    "print(\"X_test shape:\", X_test.shape)\n",
    "print(\"y_train shape:\", y_train.shape)\n",
    "print(\"y_test shape:\", y_test.shape)"
   ]
  },
  {
   "attachments": {},
   "cell_type": "markdown",
   "metadata": {},
   "source": [
    "X contains the input features (excluding 'Survived').\n",
    "y contains the target variable ('Survived').\n",
    "We use an 80-20 split ratio for training and testing data. The resulting data shapes are printed for verification:\n",
    "\n",
    "X_train and y_train are the training data (80%).\n",
    "X_test and y_test are the testing data (20%)."
   ]
  },
  {
   "attachments": {},
   "cell_type": "markdown",
   "metadata": {},
   "source": [
    "### Preprocessing the train data"
   ]
  },
  {
   "attachments": {},
   "cell_type": "markdown",
   "metadata": {},
   "source": [
    "In this comprehensive data preprocessing phase, we address missing values and perform feature engineering.\n",
    "\n"
   ]
  },
  {
   "attachments": {},
   "cell_type": "markdown",
   "metadata": {},
   "source": [
    "#### Understanding the Missing Values"
   ]
  },
  {
   "attachments": {},
   "cell_type": "markdown",
   "metadata": {},
   "source": [
    "Let's start by checking for missing values in both the training (X_train) and test (X_test) datasets using heatmap visualizations and numerical summaries."
   ]
  },
  {
   "cell_type": "code",
   "execution_count": 12,
   "metadata": {},
   "outputs": [
    {
     "name": "stdout",
     "output_type": "stream",
     "text": [
      "PassengerId      0\n",
      "Pclass           0\n",
      "Name             0\n",
      "Sex              0\n",
      "Age            138\n",
      "SibSp            0\n",
      "Parch            0\n",
      "Ticket           0\n",
      "Fare             0\n",
      "Cabin          541\n",
      "Embarked         2\n",
      "dtype: int64\n"
     ]
    },
    {
     "data": {
      "image/png": "[encoded data removed]",
      "text/plain": [
       "<Figure size 640x480 with 1 Axes>"
      ]
     },
     "metadata": {},
     "output_type": "display_data"
    }
   ],
   "source": [
    "sns.heatmap(X_train.isna(), yticklabels=False, cbar=False, cmap='viridis')\n",
    "\n",
    "print(X_train.isna().sum())"
   ]
  },
  {
   "attachments": {},
   "cell_type": "markdown",
   "metadata": {},
   "source": [
    "The output above provides valuable insights into the presence of missing values within our training dataset (X_train). Here's a breakdown of what we observe:\n",
    "\n",
    "- 'Age' Column: There are 138 missing values in the 'Age' column. These missing age values will be addressed in the preprocessing step by calculating and filling them with mean values based on passenger class and gender.\n",
    "\n",
    "- 'Cabin' Column: The 'Cabin' column has a significant number of missing values, with 541 out of 712 values being missing. Due to the extent of missing data in this column, we will make a decision on how to handle it as part of our preprocessing strategy.\n",
    "\n",
    "- 'Embarked' Column: Only two instances of missing values are found in the 'Embarked' column. These missing 'Embarked' values will be conveniently filled with the most frequent value, 'S,' as it represents the port of embarkation for the majority of passengers."
   ]
  },
  {
   "cell_type": "code",
   "execution_count": 13,
   "metadata": {},
   "outputs": [
    {
     "data": {
      "text/plain": [
       "PassengerId      0\n",
       "Pclass           0\n",
       "Name             0\n",
       "Sex              0\n",
       "Age             39\n",
       "SibSp            0\n",
       "Parch            0\n",
       "Ticket           0\n",
       "Fare             0\n",
       "Cabin          146\n",
       "Embarked         0\n",
       "dtype: int64"
      ]
     },
     "execution_count": 13,
     "metadata": {},
     "output_type": "execute_result"
    },
    {
     "data": {
      "image/png": "[encoded data removed]",
      "text/plain": [
       "<Figure size 640x480 with 1 Axes>"
      ]
     },
     "metadata": {},
     "output_type": "display_data"
    }
   ],
   "source": [
    "sns.heatmap(X_test.isna(), yticklabels=False, cbar=False, cmap='viridis')\n",
    "\n",
    "X_test.isna().sum()"
   ]
  },
  {
   "attachments": {},
   "cell_type": "markdown",
   "metadata": {},
   "source": [
    "Now, the output above provides insights into the presence of missing values within our test dataset (X_test). Here's a summary of the observations:\n",
    "\n",
    "'Age' Column: There are 39 missing values in the 'Age' column in the test dataset. Similar to the training dataset, these missing age values will be addressed during preprocessing by calculating and filling them with mean values based on passenger class and gender.\n",
    "\n",
    "'Cabin' Column: The 'Cabin' column exhibits a significant number of missing values, with 146 out of 179 values being missing in the test dataset. Decisions on handling these missing values will be made as part of our preprocessing strategy, considering the extent of missing data.\n",
    "\n",
    "Other Columns: For the remaining columns, including 'Embarked', there are no missing values, ensuring the completeness of these features in the test dataset."
   ]
  },
  {
   "attachments": {},
   "cell_type": "markdown",
   "metadata": {},
   "source": [
    "##### Handling Missing 'Embarked'"
   ]
  },
  {
   "attachments": {},
   "cell_type": "markdown",
   "metadata": {},
   "source": [
    "In this section, we address missing values in the \"Embarked\" feature within the training dataset (X_train). Since there are only three instances of missing values (NaN) in this column, we choose a straightforward approach to handle them.\n",
    "\n",
    "First, let's examine the distribution of values within the \"Embarked\" feature to determine the most frequent embarkation port:"
   ]
  },
  {
   "cell_type": "code",
   "execution_count": 14,
   "metadata": {},
   "outputs": [
    {
     "data": {
      "text/plain": [
       "S    515\n",
       "C    130\n",
       "Q     65\n",
       "Name: Embarked, dtype: int64"
      ]
     },
     "execution_count": 14,
     "metadata": {},
     "output_type": "execute_result"
    }
   ],
   "source": [
    "X_train.Embarked.value_counts()"
   ]
  },
  {
   "attachments": {},
   "cell_type": "markdown",
   "metadata": {},
   "source": [
    "Here, we observe that \"S\" (Southampton) is the most frequently occurring embarkation port. \n",
    "\n",
    "To maintain data completeness, we proceed to fill the three missing \"Embarked\" values with the most frequent value, which is \"S.\" This ensures that the dataset remains consistent and ready for analysis and modeling."
   ]
  },
  {
   "cell_type": "code",
   "execution_count": 15,
   "metadata": {},
   "outputs": [],
   "source": [
    "# Fill missing 'Embarked' values with 'S' in X_train and X_test\n",
    "X_train['Embarked'] = X_train['Embarked'].fillna('S')\n",
    "X_test['Embarked'] = X_test['Embarked'].fillna('S')"
   ]
  },
  {
   "attachments": {},
   "cell_type": "markdown",
   "metadata": {},
   "source": [
    "##### Handling Missing 'Age'"
   ]
  },
  {
   "attachments": {},
   "cell_type": "markdown",
   "metadata": {},
   "source": [
    "In this section, we address missing values in the \"Age\" feature within both the training and test datasets (X_train and X_test). The strategy involves calculating the mean age based on passenger class and gender, enabling us to estimate missing age values more accurately by considering patterns within each group.\n",
    "\n",
    "First, we calculate the mean age for passengers, categorized by passenger class ('Pclass') and gender ('Sex'). This step is crucial for understanding age patterns within different groups. With the calculated means in place, we proceed to fill in missing age values in both the training and test datasets. This ensures that the age distribution is more accurately represented, improving data completeness:"
   ]
  },
  {
   "cell_type": "code",
   "execution_count": 16,
   "metadata": {},
   "outputs": [],
   "source": [
    "# Calculate the mean age by Pclass and Sex in the training data\n",
    "mean_age_by_pclass_sex_xtrain = X_train.groupby(['Pclass', 'Sex'])['Age'].mean()\n",
    "mean_age_by_pclass_sex_xtest = X_test.groupby(['Pclass', 'Sex'])['Age'].mean()\n",
    "\n",
    "# Fill missing Age values in X_train and X_test\n",
    "X_train['Age'] = X_train.apply(lambda row: mean_age_by_pclass_sex_xtrain[row['Pclass'], row['Sex']] if pd.isnull(row['Age']) else row['Age'], axis=1)\n",
    "X_test['Age'] = X_test.apply(lambda row: mean_age_by_pclass_sex_xtest[row['Pclass'], row['Sex']] if pd.isnull(row['Age']) else row['Age'], axis=1)"
   ]
  },
  {
   "attachments": {},
   "cell_type": "markdown",
   "metadata": {},
   "source": [
    "By executing these steps, we effectively handle missing \"Age\" values while considering passenger class and gender, ensuring a more comprehensive and representative dataset for further analysis and modeling."
   ]
  },
  {
   "attachments": {},
   "cell_type": "markdown",
   "metadata": {},
   "source": [
    "#### Droping 'PassengerId' and 'Ticket'"
   ]
  },
  {
   "attachments": {},
   "cell_type": "markdown",
   "metadata": {},
   "source": [
    "In this section, we streamline our datasets by removing the 'PassengerId' and 'Ticket' columns from both the training and test datasets (X_train and X_test). This decision is based on the understanding that these columns are unlikely to provide significant insights or aid in our analysis or modeling efforts."
   ]
  },
  {
   "attachments": {},
   "cell_type": "markdown",
   "metadata": {},
   "source": [
    "We proceed to drop these columns using the following code:"
   ]
  },
  {
   "cell_type": "code",
   "execution_count": 17,
   "metadata": {},
   "outputs": [],
   "source": [
    "# Drop 'PassengerId' and 'Ticket' columns in X_train and X_test\n",
    "X_train = X_train.drop(columns=['PassengerId', 'Ticket'])\n",
    "X_test = X_test.drop(columns=['PassengerId', 'Ticket'])\n"
   ]
  },
  {
   "attachments": {},
   "cell_type": "markdown",
   "metadata": {},
   "source": [
    "By executing these steps, we simplify our datasets, focusing on the most relevant features for our analysis and modeling tasks. This enhances the clarity and efficiency of our data preparation process.\n",
    "\n",
    "\n",
    "\n",
    "\n"
   ]
  },
  {
   "attachments": {},
   "cell_type": "markdown",
   "metadata": {},
   "source": [
    "It's worth noting that the 'Cabin' column contains a significant number of missing values, with 541 out of 712 values missing in the training dataset. These missing values will be addressed in the upcoming feature engineering section, where we plan to create a new feature called 'Deck' based on the available cabin information. This feature will categorize passengers into specific cabin categories or decks, such as 'A,' 'B,' 'C,' and so on. By utilizing the available cabin data, we aim to extract valuable information and insights that can potentially contribute to our analysis and improve the predictive performance of our models. This approach ensures that we make the most of the existing data, even in the presence of missing 'Cabin' values, to enhance our understanding of passenger demographics and their relationship with survival outcomes in the Titanic challenge."
   ]
  },
  {
   "attachments": {},
   "cell_type": "markdown",
   "metadata": {},
   "source": [
    "#### Feature Engineering"
   ]
  },
  {
   "attachments": {},
   "cell_type": "markdown",
   "metadata": {},
   "source": [
    "##### Creating 'Deck' Feature  "
   ]
  },
  {
   "attachments": {},
   "cell_type": "markdown",
   "metadata": {},
   "source": [
    "As mentioned above, in this feature engineering section, we introduce a new feature called 'Deck' by utilizing the 'Cabin' information within both the training and test datasets (X_train and X_test). The 'Cabin' column initially had a significant number of missing values, as shown in the output below:"
   ]
  },
  {
   "cell_type": "code",
   "execution_count": 18,
   "metadata": {},
   "outputs": [
    {
     "name": "stdout",
     "output_type": "stream",
     "text": [
      "Pclass        0\n",
      "Name          0\n",
      "Sex           0\n",
      "Age           0\n",
      "SibSp         0\n",
      "Parch         0\n",
      "Fare          0\n",
      "Cabin       541\n",
      "Embarked      0\n",
      "dtype: int64\n",
      "count     171\n",
      "unique    130\n",
      "top        G6\n",
      "freq        4\n",
      "Name: Cabin, dtype: object\n",
      "['B58 B60' 'B18' nan 'C68' 'A10' 'E10' 'B20' 'B94' 'B28' 'B51 B53 B55'\n",
      " 'F2' 'A31' 'B57 B59 B63 B66' 'C90' 'C23 C25 C27' 'C126' 'A26' 'B5'\n",
      " 'B96 B98' 'E38' 'B78' 'C106' 'B77' 'B80' 'F G73' 'C123' 'T' 'C47' 'C86'\n",
      " 'C85' 'E25' 'A6' 'B35' 'E34' 'A34' 'D46' 'A20' 'F4' 'D19' 'A5' 'C65'\n",
      " 'C78' 'F38' 'E44' 'C101' 'B4' 'D20' 'C103' 'D50' 'D36' 'C30' 'C22 C26'\n",
      " 'E8' 'B102' 'E33' 'E67' 'C50' 'C148' 'E36' 'B82 B84' 'D35' 'B50' 'C49'\n",
      " 'C52' 'C45' 'C124' 'B69' 'B71' 'D26' 'A24' 'D56' 'D7' 'D17' 'A36' 'B73'\n",
      " 'C118' 'B22' 'B86' 'C2' 'C110' 'C46' 'E12' 'B19' 'G6' 'D48' 'D30' 'E46'\n",
      " 'D10 D12' 'C128' 'F33' 'A23' 'C54' 'D45' 'C83' 'C32' 'C111' 'C70' 'E58'\n",
      " 'C7' 'E101' 'B49' 'C87' 'D' 'A7' 'E24' 'C99' 'B30' 'B39' 'A14' 'B42'\n",
      " 'E63' 'D15' 'D33' 'C125' 'E121' 'C93' 'C92' 'E77' 'C62 C64' 'F G63' 'C95'\n",
      " 'C104' 'E31' 'E50' 'D6' 'B41' 'D47' 'C82' 'D28' 'A32' 'D9']\n"
     ]
    }
   ],
   "source": [
    "print(X_train.isna().sum())\n",
    "print(X_train['Cabin'].describe())\n",
    "print(X_train['Cabin'].unique())"
   ]
  },
  {
   "attachments": {},
   "cell_type": "markdown",
   "metadata": {},
   "source": [
    "While there are numerous unique values within the 'Cabin' column, we've devised a strategy to extract valuable information and categorize passengers into specific decks, such as 'A-B-C,' 'D-E,' 'F,' and 'Unknown.' The code snippet below demonstrates this feature engineering process:\n",
    "\n"
   ]
  },
  {
   "cell_type": "code",
   "execution_count": 19,
   "metadata": {},
   "outputs": [],
   "source": [
    "def modify_deck_features(dataset):\n",
    "    # Define the deck mapping\n",
    "    deck_mapping = {\"A\": \"A-B-C\", \"B\": \"A-B-C\", \"C\": \"A-B-C\", \"D\": \"D-E\", \"E\": \"D-E\", \"F\": \"F\", \"G\": \"Unknown\", \"Unknown\": \"Unknown\"}\n",
    "\n",
    "    # Fill missing values and extract deck information\n",
    "    dataset['Cabin'] = dataset['Cabin'].fillna(\"U0\")\n",
    "    dataset['Deck'] = dataset['Cabin'].str.extract(r\"([a-zA-Z]+)\", expand=False)\n",
    "    dataset['Deck'] = dataset['Deck'].map(deck_mapping)\n",
    "    dataset['Deck'] = dataset['Deck'].fillna(\"Unknown\")\n",
    "\n",
    "    # Drop the 'Cabin' feature\n",
    "    dataset = dataset.drop(['Cabin'], axis=1)\n",
    "\n",
    "    dataset['Deck'] = dataset['Deck'].replace('G', 'Unknown')\n",
    "\n",
    "    return dataset\n",
    "\n",
    "# Apply the modification function to X_train and X_test\n",
    "X_train = modify_deck_features(X_train)\n",
    "X_test = modify_deck_features(X_test)\n"
   ]
  },
  {
   "attachments": {},
   "cell_type": "markdown",
   "metadata": {},
   "source": [
    "By creating the 'Deck' feature, we aim to capture valuable insights from the 'Cabin' data while accommodating the presence of missing values, enhancing our dataset for analysis and modeling in the Titanic challenge.\n",
    "\n",
    "After that, we can observe the unique values present in this new feature for both the training and test datasets.\n",
    "\n",
    "\n",
    "\n"
   ]
  },
  {
   "cell_type": "code",
   "execution_count": 20,
   "metadata": {},
   "outputs": [
    {
     "name": "stdout",
     "output_type": "stream",
     "text": [
      "['A-B-C' 'Unknown' 'D-E' 'F']\n",
      "['Unknown' 'A-B-C' 'D-E' 'F']\n"
     ]
    }
   ],
   "source": [
    "print(X_train.Deck.unique())\n",
    "print(X_test.Deck.unique())\n"
   ]
  },
  {
   "attachments": {},
   "cell_type": "markdown",
   "metadata": {},
   "source": [
    "These unique values reflect the categorization of passengers into specific decks, such as 'A-B-C,' 'D-E,' 'F,' and 'Unknown,' based on the available 'Cabin' information. This feature transformation allows us to capture and utilize valuable insights from the 'Cabin' data while enhancing the dataset's readiness for analysis and machine learning modeling in the Titanic challenge.\n",
    "\n",
    "\n",
    "\n",
    "\n"
   ]
  },
  {
   "attachments": {},
   "cell_type": "markdown",
   "metadata": {},
   "source": [
    "To gain a deeper understanding of the distribution of passenger classes ('Pclass') across different decks ('Deck'), we conducted an analysis. The output provided reveals the percentage distribution of each 'Pclass' within its corresponding 'Deck' category in the training dataset (X_train)."
   ]
  },
  {
   "cell_type": "code",
   "execution_count": 21,
   "metadata": {},
   "outputs": [
    {
     "data": {
      "text/plain": [
       "Deck     Pclass\n",
       "A-B-C    1         1.000000\n",
       "D-E      1         0.826923\n",
       "         2         0.134615\n",
       "         3         0.038462\n",
       "F        2         0.636364\n",
       "         3         0.363636\n",
       "Unknown  3         0.706960\n",
       "         2         0.243590\n",
       "         1         0.049451\n",
       "Name: Pclass, dtype: float64"
      ]
     },
     "execution_count": 21,
     "metadata": {},
     "output_type": "execute_result"
    }
   ],
   "source": [
    "X_train.groupby('Deck')['Pclass'].value_counts(normalize=True)"
   ]
  },
  {
   "attachments": {},
   "cell_type": "markdown",
   "metadata": {},
   "source": [
    "The bar chart visualization provided below further illustrates the distribution of passenger classes ('Pclass') within each 'Deck' category, allowing for a clear and visual representation of these insights. The color coding distinguishes each 'Pclass,' making it easier to interpret and analyze the distribution patterns."
   ]
  },
  {
   "cell_type": "code",
   "execution_count": 22,
   "metadata": {},
   "outputs": [
    {
     "data": {
      "application/vnd.plotly.v1+json": {
       "config": {
        "plotlyServerURL": "https://plot.ly"
       },
       "data": [
        {
         "marker": {
          "color": "rgba(0, 128, 0, 0.7)"
         },
         "name": "Pclass 1",
         "type": "bar",
         "x": [
          "A-B-C",
          "D-E",
          "Unknown"
         ],
         "y": [
          100,
          82.6923076923077,
          4.945054945054945
         ]
        },
        {
         "marker": {
          "color": "rgba(0, 0, 255, 0.7)"
         },
         "name": "Pclass 2",
         "type": "bar",
         "x": [
          "D-E",
          "F",
          "Unknown"
         ],
         "y": [
          13.461538461538462,
          63.63636363636363,
          24.358974358974358
         ]
        },
        {
         "marker": {
          "color": "rgba(255, 165, 0, 0.7)"
         },
         "name": "Pclass 3",
         "type": "bar",
         "x": [
          "D-E",
          "F",
          "Unknown"
         ],
         "y": [
          3.8461538461538463,
          36.36363636363637,
          70.6959706959707
         ]
        }
       ],
       "layout": {
        "barmode": "stack",
        "showlegend": true,
        "template": {
         "data": {
          "bar": [
           {
            "error_x": {
             "color": "#2a3f5f"
            },
            "error_y": {
             "color": "#2a3f5f"
            },
            "marker": {
             "line": {
              "color": "#E5ECF6",
              "width": 0.5
             },
             "pattern": {
              "fillmode": "overlay",
              "size": 10,
              "solidity": 0.2
             }
            },
            "type": "bar"
           }
          ],
          "barpolar": [
           {
            "marker": {
             "line": {
              "color": "#E5ECF6",
              "width": 0.5
             },
             "pattern": {
              "fillmode": "overlay",
              "size": 10,
              "solidity": 0.2
             }
            },
            "type": "barpolar"
           }
          ],
          "carpet": [
           {
            "aaxis": {
             "endlinecolor": "#2a3f5f",
             "gridcolor": "white",
             "linecolor": "white",
             "minorgridcolor": "white",
             "startlinecolor": "#2a3f5f"
            },
            "baxis": {
             "endlinecolor": "#2a3f5f",
             "gridcolor": "white",
             "linecolor": "white",
             "minorgridcolor": "white",
             "startlinecolor": "#2a3f5f"
            },
            "type": "carpet"
           }
          ],
          "choropleth": [
           {
            "colorbar": {
             "outlinewidth": 0,
             "ticks": ""
            },
            "type": "choropleth"
           }
          ],
          "contour": [
           {
            "colorbar": {
             "outlinewidth": 0,
             "ticks": ""
            },
            "colorscale": [
             [
              0,
              "#0d0887"
             ],
             [
              0.1111111111111111,
              "#46039f"
             ],
             [
              0.2222222222222222,
              "#7201a8"
             ],
             [
              0.3333333333333333,
              "#9c179e"
             ],
             [
              0.4444444444444444,
              "#bd3786"
             ],
             [
              0.5555555555555556,
              "#d8576b"
             ],
             [
              0.6666666666666666,
              "#ed7953"
             ],
             [
              0.7777777777777778,
              "#fb9f3a"
             ],
             [
              0.8888888888888888,
              "#fdca26"
             ],
             [
              1,
              "#f0f921"
             ]
            ],
            "type": "contour"
           }
          ],
          "contourcarpet": [
           {
            "colorbar": {
             "outlinewidth": 0,
             "ticks": ""
            },
            "type": "contourcarpet"
           }
          ],
          "heatmap": [
           {
            "colorbar": {
             "outlinewidth": 0,
             "ticks": ""
            },
            "colorscale": [
             [
              0,
              "#0d0887"
             ],
             [
              0.1111111111111111,
              "#46039f"
             ],
             [
              0.2222222222222222,
              "#7201a8"
             ],
             [
              0.3333333333333333,
              "#9c179e"
             ],
             [
              0.4444444444444444,
              "#bd3786"
             ],
             [
              0.5555555555555556,
              "#d8576b"
             ],
             [
              0.6666666666666666,
              "#ed7953"
             ],
             [
              0.7777777777777778,
              "#fb9f3a"
             ],
             [
              0.8888888888888888,
              "#fdca26"
             ],
             [
              1,
              "#f0f921"
             ]
            ],
            "type": "heatmap"
           }
          ],
          "heatmapgl": [
           {
            "colorbar": {
             "outlinewidth": 0,
             "ticks": ""
            },
            "colorscale": [
             [
              0,
              "#0d0887"
             ],
             [
              0.1111111111111111,
              "#46039f"
             ],
             [
              0.2222222222222222,
              "#7201a8"
             ],
             [
              0.3333333333333333,
              "#9c179e"
             ],
             [
              0.4444444444444444,
              "#bd3786"
             ],
             [
              0.5555555555555556,
              "#d8576b"
             ],
             [
              0.6666666666666666,
              "#ed7953"
             ],
             [
              0.7777777777777778,
              "#fb9f3a"
             ],
             [
              0.8888888888888888,
              "#fdca26"
             ],
             [
              1,
              "#f0f921"
             ]
            ],
            "type": "heatmapgl"
           }
          ],
          "histogram": [
           {
            "marker": {
             "pattern": {
              "fillmode": "overlay",
              "size": 10,
              "solidity": 0.2
             }
            },
            "type": "histogram"
           }
          ],
          "histogram2d": [
           {
            "colorbar": {
             "outlinewidth": 0,
             "ticks": ""
            },
            "colorscale": [
             [
              0,
              "#0d0887"
             ],
             [
              0.1111111111111111,
              "#46039f"
             ],
             [
              0.2222222222222222,
              "#7201a8"
             ],
             [
              0.3333333333333333,
              "#9c179e"
             ],
             [
              0.4444444444444444,
              "#bd3786"
             ],
             [
              0.5555555555555556,
              "#d8576b"
             ],
             [
              0.6666666666666666,
              "#ed7953"
             ],
             [
              0.7777777777777778,
              "#fb9f3a"
             ],
             [
              0.8888888888888888,
              "#fdca26"
             ],
             [
              1,
              "#f0f921"
             ]
            ],
            "type": "histogram2d"
           }
          ],
          "histogram2dcontour": [
           {
            "colorbar": {
             "outlinewidth": 0,
             "ticks": ""
            },
            "colorscale": [
             [
              0,
              "#0d0887"
             ],
             [
              0.1111111111111111,
              "#46039f"
             ],
             [
              0.2222222222222222,
              "#7201a8"
             ],
             [
              0.3333333333333333,
              "#9c179e"
             ],
             [
              0.4444444444444444,
              "#bd3786"
             ],
             [
              0.5555555555555556,
              "#d8576b"
             ],
             [
              0.6666666666666666,
              "#ed7953"
             ],
             [
              0.7777777777777778,
              "#fb9f3a"
             ],
             [
              0.8888888888888888,
              "#fdca26"
             ],
             [
              1,
              "#f0f921"
             ]
            ],
            "type": "histogram2dcontour"
           }
          ],
          "mesh3d": [
           {
            "colorbar": {
             "outlinewidth": 0,
             "ticks": ""
            },
            "type": "mesh3d"
           }
          ],
          "parcoords": [
           {
            "line": {
             "colorbar": {
              "outlinewidth": 0,
              "ticks": ""
             }
            },
            "type": "parcoords"
           }
          ],
          "pie": [
           {
            "automargin": true,
            "type": "pie"
           }
          ],
          "scatter": [
           {
            "fillpattern": {
             "fillmode": "overlay",
             "size": 10,
             "solidity": 0.2
            },
            "type": "scatter"
           }
          ],
          "scatter3d": [
           {
            "line": {
             "colorbar": {
              "outlinewidth": 0,
              "ticks": ""
             }
            },
            "marker": {
             "colorbar": {
              "outlinewidth": 0,
              "ticks": ""
             }
            },
            "type": "scatter3d"
           }
          ],
          "scattercarpet": [
           {
            "marker": {
             "colorbar": {
              "outlinewidth": 0,
              "ticks": ""
             }
            },
            "type": "scattercarpet"
           }
          ],
          "scattergeo": [
           {
            "marker": {
             "colorbar": {
              "outlinewidth": 0,
              "ticks": ""
             }
            },
            "type": "scattergeo"
           }
          ],
          "scattergl": [
           {
            "marker": {
             "colorbar": {
              "outlinewidth": 0,
              "ticks": ""
             }
            },
            "type": "scattergl"
           }
          ],
          "scattermapbox": [
           {
            "marker": {
             "colorbar": {
              "outlinewidth": 0,
              "ticks": ""
             }
            },
            "type": "scattermapbox"
           }
          ],
          "scatterpolar": [
           {
            "marker": {
             "colorbar": {
              "outlinewidth": 0,
              "ticks": ""
             }
            },
            "type": "scatterpolar"
           }
          ],
          "scatterpolargl": [
           {
            "marker": {
             "colorbar": {
              "outlinewidth": 0,
              "ticks": ""
             }
            },
            "type": "scatterpolargl"
           }
          ],
          "scatterternary": [
           {
            "marker": {
             "colorbar": {
              "outlinewidth": 0,
              "ticks": ""
             }
            },
            "type": "scatterternary"
           }
          ],
          "surface": [
           {
            "colorbar": {
             "outlinewidth": 0,
             "ticks": ""
            },
            "colorscale": [
             [
              0,
              "#0d0887"
             ],
             [
              0.1111111111111111,
              "#46039f"
             ],
             [
              0.2222222222222222,
              "#7201a8"
             ],
             [
              0.3333333333333333,
              "#9c179e"
             ],
             [
              0.4444444444444444,
              "#bd3786"
             ],
             [
              0.5555555555555556,
              "#d8576b"
             ],
             [
              0.6666666666666666,
              "#ed7953"
             ],
             [
              0.7777777777777778,
              "#fb9f3a"
             ],
             [
              0.8888888888888888,
              "#fdca26"
             ],
             [
              1,
              "#f0f921"
             ]
            ],
            "type": "surface"
           }
          ],
          "table": [
           {
            "cells": {
             "fill": {
              "color": "#EBF0F8"
             },
             "line": {
              "color": "white"
             }
            },
            "header": {
             "fill": {
              "color": "#C8D4E3"
             },
             "line": {
              "color": "white"
             }
            },
            "type": "table"
           }
          ]
         },
         "layout": {
          "annotationdefaults": {
           "arrowcolor": "#2a3f5f",
           "arrowhead": 0,
           "arrowwidth": 1
          },
          "autotypenumbers": "strict",
          "coloraxis": {
           "colorbar": {
            "outlinewidth": 0,
            "ticks": ""
           }
          },
          "colorscale": {
           "diverging": [
            [
             0,
             "#8e0152"
            ],
            [
             0.1,
             "#c51b7d"
            ],
            [
             0.2,
             "#de77ae"
            ],
            [
             0.3,
             "#f1b6da"
            ],
            [
             0.4,
             "#fde0ef"
            ],
            [
             0.5,
             "#f7f7f7"
            ],
            [
             0.6,
             "#e6f5d0"
            ],
            [
             0.7,
             "#b8e186"
            ],
            [
             0.8,
             "#7fbc41"
            ],
            [
             0.9,
             "#4d9221"
            ],
            [
             1,
             "#276419"
            ]
           ],
           "sequential": [
            [
             0,
             "#0d0887"
            ],
            [
             0.1111111111111111,
             "#46039f"
            ],
            [
             0.2222222222222222,
             "#7201a8"
            ],
            [
             0.3333333333333333,
             "#9c179e"
            ],
            [
             0.4444444444444444,
             "#bd3786"
            ],
            [
             0.5555555555555556,
             "#d8576b"
            ],
            [
             0.6666666666666666,
             "#ed7953"
            ],
            [
             0.7777777777777778,
             "#fb9f3a"
            ],
            [
             0.8888888888888888,
             "#fdca26"
            ],
            [
             1,
             "#f0f921"
            ]
           ],
           "sequentialminus": [
            [
             0,
             "#0d0887"
            ],
            [
             0.1111111111111111,
             "#46039f"
            ],
            [
             0.2222222222222222,
             "#7201a8"
            ],
            [
             0.3333333333333333,
             "#9c179e"
            ],
            [
             0.4444444444444444,
             "#bd3786"
            ],
            [
             0.5555555555555556,
             "#d8576b"
            ],
            [
             0.6666666666666666,
             "#ed7953"
            ],
            [
             0.7777777777777778,
             "#fb9f3a"
            ],
            [
             0.8888888888888888,
             "#fdca26"
            ],
            [
             1,
             "#f0f921"
            ]
           ]
          },
          "colorway": [
           "#636efa",
           "#EF553B",
           "#00cc96",
           "#ab63fa",
           "#FFA15A",
           "#19d3f3",
           "#FF6692",
           "#B6E880",
           "#FF97FF",
           "#FECB52"
          ],
          "font": {
           "color": "#2a3f5f"
          },
          "geo": {
           "bgcolor": "white",
           "lakecolor": "white",
           "landcolor": "#E5ECF6",
           "showlakes": true,
           "showland": true,
           "subunitcolor": "white"
          },
          "hoverlabel": {
           "align": "left"
          },
          "hovermode": "closest",
          "mapbox": {
           "style": "light"
          },
          "paper_bgcolor": "white",
          "plot_bgcolor": "#E5ECF6",
          "polar": {
           "angularaxis": {
            "gridcolor": "white",
            "linecolor": "white",
            "ticks": ""
           },
           "bgcolor": "#E5ECF6",
           "radialaxis": {
            "gridcolor": "white",
            "linecolor": "white",
            "ticks": ""
           }
          },
          "scene": {
           "xaxis": {
            "backgroundcolor": "#E5ECF6",
            "gridcolor": "white",
            "gridwidth": 2,
            "linecolor": "white",
            "showbackground": true,
            "ticks": "",
            "zerolinecolor": "white"
           },
           "yaxis": {
            "backgroundcolor": "#E5ECF6",
            "gridcolor": "white",
            "gridwidth": 2,
            "linecolor": "white",
            "showbackground": true,
            "ticks": "",
            "zerolinecolor": "white"
           },
           "zaxis": {
            "backgroundcolor": "#E5ECF6",
            "gridcolor": "white",
            "gridwidth": 2,
            "linecolor": "white",
            "showbackground": true,
            "ticks": "",
            "zerolinecolor": "white"
           }
          },
          "shapedefaults": {
           "line": {
            "color": "#2a3f5f"
           }
          },
          "ternary": {
           "aaxis": {
            "gridcolor": "white",
            "linecolor": "white",
            "ticks": ""
           },
           "baxis": {
            "gridcolor": "white",
            "linecolor": "white",
            "ticks": ""
           },
           "bgcolor": "#E5ECF6",
           "caxis": {
            "gridcolor": "white",
            "linecolor": "white",
            "ticks": ""
           }
          },
          "title": {
           "x": 0.05
          },
          "xaxis": {
           "automargin": true,
           "gridcolor": "white",
           "linecolor": "white",
           "ticks": "",
           "title": {
            "standoff": 15
           },
           "zerolinecolor": "white",
           "zerolinewidth": 2
          },
          "yaxis": {
           "automargin": true,
           "gridcolor": "white",
           "linecolor": "white",
           "ticks": "",
           "title": {
            "standoff": 15
           },
           "zerolinecolor": "white",
           "zerolinewidth": 2
          }
         }
        },
        "title": {
         "text": "Pclass Distribution by Deck"
        },
        "xaxis": {
         "title": {
          "text": "Deck"
         }
        },
        "yaxis": {
         "title": {
          "text": "Percentage"
         }
        }
       }
      }
     },
     "metadata": {},
     "output_type": "display_data"
    }
   ],
   "source": [
    "import plotly.graph_objects as go\n",
    "\n",
    "# Calculate the percentage of each Pclass in each deck\n",
    "deck_pclass_percentages = X_train.groupby(['Deck', 'Pclass']).size() / X_train.groupby('Deck').size() * 100\n",
    "deck_pclass_percentages = deck_pclass_percentages.reset_index(name='Percentage')\n",
    "\n",
    "# Remove the 'Unknown' category\n",
    "# deck_pclass_percentages = deck_pclass_percentages[deck_pclass_percentages['Deck'] != 'Unknown']\n",
    "\n",
    "# Define the color mapping for each Pclass\n",
    "color_mapping = {1: 'rgba(0, 128, 0, 0.7)', 2: 'rgba(0, 0, 255, 0.7)', 3: 'rgba(255, 165, 0, 0.7)'}\n",
    "\n",
    "# Create an empty list to store the traces\n",
    "traces = []\n",
    "\n",
    "# Create a trace for each Pclass\n",
    "for pclass in [1, 2, 3]:\n",
    "    pclass_data = deck_pclass_percentages[deck_pclass_percentages['Pclass'] == pclass]\n",
    "    trace = go.Bar(x=pclass_data['Deck'],\n",
    "                   y=pclass_data['Percentage'],\n",
    "                   name=f'Pclass {pclass}',\n",
    "                   marker_color=color_mapping[pclass])\n",
    "    traces.append(trace)\n",
    "\n",
    "# Create the layout for the plot\n",
    "layout = go.Layout(title='Pclass Distribution by Deck',\n",
    "                   xaxis_title='Deck',\n",
    "                   yaxis_title='Percentage',\n",
    "                   barmode='stack')\n",
    "\n",
    "# Create the figure with the traces and layout\n",
    "fig = go.Figure(data=traces, layout=layout)\n",
    "\n",
    "# Add a legend\n",
    "fig.update_layout(showlegend=True)\n",
    "\n",
    "# Show the plot\n",
    "fig.show()\n"
   ]
  },
  {
   "attachments": {},
   "cell_type": "markdown",
   "metadata": {},
   "source": [
    "Deck 'A-B-C': This deck is exclusively comprised of passengers from 'Pclass 1,' accounting for 100% of the passengers in this category.\n",
    "\n",
    "Deck 'D-E': Within this deck, 'Pclass 1' dominates with approximately 82.69% of passengers. 'Pclass 2' and 'Pclass 3' make up 13.46% and 3.85%, respectively.\n",
    "\n",
    "Deck 'F': In this deck, 'Pclass 2' represents the majority of passengers, with approximately 63.64%. 'Pclass 3' follows with around 36.36%.\n",
    "\n",
    "Deck 'Unknown': The 'Unknown' deck exhibits a diverse distribution of passenger classes. Approximately 70.70% of passengers belong to 'Pclass 3,' followed by 'Pclass 2' at 24.36%, and 'Pclass 1' at 4.95%."
   ]
  },
  {
   "cell_type": "code",
   "execution_count": 23,
   "metadata": {},
   "outputs": [
    {
     "data": {
      "text/html": [
       "<div>\n",
       "<style scoped>\n",
       "    .dataframe tbody tr th:only-of-type {\n",
       "        vertical-align: middle;\n",
       "    }\n",
       "\n",
       "    .dataframe tbody tr th {\n",
       "        vertical-align: top;\n",
       "    }\n",
       "\n",
       "    .dataframe thead th {\n",
       "        text-align: right;\n",
       "    }\n",
       "</style>\n",
       "<table border=\"1\" class=\"dataframe\">\n",
       "  <thead>\n",
       "    <tr style=\"text-align: right;\">\n",
       "      <th></th>\n",
       "      <th>Pclass</th>\n",
       "      <th>Name</th>\n",
       "      <th>Sex</th>\n",
       "      <th>Age</th>\n",
       "      <th>SibSp</th>\n",
       "      <th>Parch</th>\n",
       "      <th>Fare</th>\n",
       "      <th>Embarked</th>\n",
       "      <th>Deck</th>\n",
       "    </tr>\n",
       "  </thead>\n",
       "  <tbody>\n",
       "    <tr>\n",
       "      <th>299</th>\n",
       "      <td>1</td>\n",
       "      <td>Baxter, Mrs. James (Helene DeLaudeniere Chaput)</td>\n",
       "      <td>female</td>\n",
       "      <td>50.000000</td>\n",
       "      <td>0</td>\n",
       "      <td>1</td>\n",
       "      <td>247.5208</td>\n",
       "      <td>C</td>\n",
       "      <td>A-B-C</td>\n",
       "    </tr>\n",
       "    <tr>\n",
       "      <th>523</th>\n",
       "      <td>1</td>\n",
       "      <td>Hippach, Mrs. Louis Albert (Ida Sophia Fischer)</td>\n",
       "      <td>female</td>\n",
       "      <td>44.000000</td>\n",
       "      <td>0</td>\n",
       "      <td>1</td>\n",
       "      <td>57.9792</td>\n",
       "      <td>C</td>\n",
       "      <td>A-B-C</td>\n",
       "    </tr>\n",
       "    <tr>\n",
       "      <th>564</th>\n",
       "      <td>3</td>\n",
       "      <td>Meanwell, Miss. (Marion Ogden)</td>\n",
       "      <td>female</td>\n",
       "      <td>20.837349</td>\n",
       "      <td>0</td>\n",
       "      <td>0</td>\n",
       "      <td>8.0500</td>\n",
       "      <td>S</td>\n",
       "      <td>Unknown</td>\n",
       "    </tr>\n",
       "    <tr>\n",
       "      <th>175</th>\n",
       "      <td>3</td>\n",
       "      <td>Klasen, Mr. Klas Albin</td>\n",
       "      <td>male</td>\n",
       "      <td>18.000000</td>\n",
       "      <td>1</td>\n",
       "      <td>1</td>\n",
       "      <td>7.8542</td>\n",
       "      <td>S</td>\n",
       "      <td>Unknown</td>\n",
       "    </tr>\n",
       "    <tr>\n",
       "      <th>883</th>\n",
       "      <td>2</td>\n",
       "      <td>Banfield, Mr. Frederick James</td>\n",
       "      <td>male</td>\n",
       "      <td>28.000000</td>\n",
       "      <td>0</td>\n",
       "      <td>0</td>\n",
       "      <td>10.5000</td>\n",
       "      <td>S</td>\n",
       "      <td>Unknown</td>\n",
       "    </tr>\n",
       "  </tbody>\n",
       "</table>\n",
       "</div>"
      ],
      "text/plain": [
       "     Pclass                                             Name     Sex  \\\n",
       "299       1  Baxter, Mrs. James (Helene DeLaudeniere Chaput)  female   \n",
       "523       1  Hippach, Mrs. Louis Albert (Ida Sophia Fischer)  female   \n",
       "564       3                   Meanwell, Miss. (Marion Ogden)  female   \n",
       "175       3                           Klasen, Mr. Klas Albin    male   \n",
       "883       2                    Banfield, Mr. Frederick James    male   \n",
       "\n",
       "           Age  SibSp  Parch      Fare Embarked     Deck  \n",
       "299  50.000000      0      1  247.5208        C    A-B-C  \n",
       "523  44.000000      0      1   57.9792        C    A-B-C  \n",
       "564  20.837349      0      0    8.0500        S  Unknown  \n",
       "175  18.000000      1      1    7.8542        S  Unknown  \n",
       "883  28.000000      0      0   10.5000        S  Unknown  "
      ]
     },
     "execution_count": 23,
     "metadata": {},
     "output_type": "execute_result"
    }
   ],
   "source": [
    "X_train.head()"
   ]
  },
  {
   "attachments": {},
   "cell_type": "markdown",
   "metadata": {},
   "source": [
    "##### Creating 'Title' Feature"
   ]
  },
  {
   "attachments": {},
   "cell_type": "markdown",
   "metadata": {},
   "source": [
    "In this section, we create the 'Title' feature by extracting titles from passenger names ('Name') in the dataset. We map specific titles to standardized values, handling less common titles, and filling missing titles based on gender-specific defaults. This 'Title' feature provides valuable insights into passenger demographics.\n",
    "\n",
    "\n",
    "\n",
    "\n"
   ]
  },
  {
   "cell_type": "code",
   "execution_count": 24,
   "metadata": {},
   "outputs": [],
   "source": [
    "def modify_title_feature(dataset):\n",
    "    title_mapping = {\n",
    "        'Mr': 'Mr',\n",
    "        'Miss': 'Miss',\n",
    "        'Mrs': 'Mrs',\n",
    "        'Master': 'Master',\n",
    "        'Aristocrats/Military/Honorifics': 'Aristocrats/Military/Honorifics'\n",
    "    }\n",
    "    \n",
    "    title_mapping_updated = {\n",
    "        'Mlle': 'Miss',\n",
    "        'Ms': 'Miss',\n",
    "        'Mme': 'Mrs'\n",
    "    }\n",
    "    \n",
    "    uncommon_titles = ['Lady', 'Countess', 'Capt', 'Col', 'Don', 'Dr', 'Major', 'Rev', 'Sir', 'Jonkheer', 'Dona']\n",
    "    \n",
    "    # Extract titles from the 'Name' column\n",
    "    dataset['Title'] = dataset['Name'].str.extract(' ([a-zA-Z]+)\\.', expand=False)\n",
    "    \n",
    "    # Replace less common titles with 'Aristocrats/Military/Honorifics'\n",
    "    dataset.loc[~dataset['Title'].isin(title_mapping.keys()), 'Title'] = 'Aristocrats/Military/Honorifics'\n",
    "    \n",
    "    # Map specific titles to their corresponding values\n",
    "    dataset['Title'] = dataset['Title'].replace(title_mapping_updated)\n",
    "    \n",
    "    # Map titles to their corresponding strings using the 'title_mapping' dictionary\n",
    "    dataset['Title'] = dataset['Title'].map(title_mapping)\n",
    "    \n",
    "    # Fill missing titles with 'Mr' for males and 'Miss' for females\n",
    "    dataset.loc[(dataset['Sex'] == 'male') & dataset['Title'].isna(), 'Title'] = 'Mr'\n",
    "    dataset.loc[(dataset['Sex'] == 'female') & dataset['Title'].isna(), 'Title'] = 'Miss'\n",
    "    \n",
    "    return dataset\n",
    "\n",
    "\n",
    "# Apply the modification function to X_train and X_test\n",
    "X_train = modify_title_feature(X_train)\n",
    "X_test = modify_title_feature(X_test)\n",
    "\n",
    "# # Calculate the mean age by 'Pclass', 'Sex', and 'Title' in the training data\n",
    "# mean_age_by_pclass_sex_title_xtrain = X_train.groupby(['Pclass', 'Sex', 'Title'])['Age'].mean()\n",
    "# mean_age_by_pclass_sex_title_xtest = X_test.groupby(['Pclass', 'Sex', 'Title'])['Age'].mean()\n",
    "\n",
    "# # Fill missing Age values in X_train and X_test\n",
    "# X_train['Age'] = X_train.apply(lambda row: mean_age_by_pclass_sex_title_xtrain[row['Pclass'], row['Sex'], row['Title']] if pd.isnull(row['Age']) else row['Age'], axis=1)\n",
    "# X_test['Age'] = X_test.apply(lambda row: mean_age_by_pclass_sex_title_xtest[row['Pclass'], row['Sex'], row['Title']] if pd.isnull(row['Age']) else row['Age'], axis=1)\n",
    "\n",
    "# Drop the 'Name' column from both datasets\n",
    "X_train = X_train.drop(['Name'], axis=1)\n",
    "X_test = X_test.drop(['Name'], axis=1)\n"
   ]
  },
  {
   "attachments": {},
   "cell_type": "markdown",
   "metadata": {},
   "source": [
    "This section focuses on generating the 'Title' feature by extracting titles from passengers' names ('Name') in the dataset. We establish a mapping scheme to standardize specific titles, including 'Mr,' 'Miss,' 'Mrs,' 'Master,' and 'Aristocrats/Military/Honorifics.' Additionally, less common titles, such as 'Lady,' 'Countess,' 'Capt,' 'Col,' 'Don,' 'Dr,' 'Major,' 'Rev,' 'Sir,' 'Jonkheer,' and 'Dona,' are grouped under 'Aristocrats/Military/Honorifics' to simplify and streamline the feature.\n",
    "\n",
    "The code then employs regular expressions to extract titles from the 'Name' column and updates the 'Title' feature accordingly. Subsequently, the 'Title' values are mapped to their standardized counterparts, ensuring consistency and meaningfulness in the representation of passenger titles.\n",
    "\n",
    "For any missing titles, gender-specific defaults are applied: 'Mr' for males and 'Miss' for females. This meticulous approach enhances the dataset's informativeness and prepares it for subsequent analysis.\n",
    "\n",
    "Finally, the 'Name' column is dropped from both datasets to eliminate redundancy and reduce dimensionality, focusing on pertinent features for analysis and modeling."
   ]
  },
  {
   "cell_type": "code",
   "execution_count": 25,
   "metadata": {},
   "outputs": [
    {
     "data": {
      "text/plain": [
       "Mr                                 412\n",
       "Miss                               150\n",
       "Mrs                                 96\n",
       "Master                              32\n",
       "Aristocrats/Military/Honorifics     22\n",
       "Name: Title, dtype: int64"
      ]
     },
     "execution_count": 25,
     "metadata": {},
     "output_type": "execute_result"
    }
   ],
   "source": [
    "X_train['Title'].value_counts()"
   ]
  },
  {
   "attachments": {},
   "cell_type": "markdown",
   "metadata": {},
   "source": [
    "Above we can find the distribution of titles among passengers in the training dataset. It presents the count of each unique title found in the 'Title' feature."
   ]
  },
  {
   "cell_type": "code",
   "execution_count": 26,
   "metadata": {},
   "outputs": [
    {
     "data": {
      "text/html": [
       "<div>\n",
       "<style scoped>\n",
       "    .dataframe tbody tr th:only-of-type {\n",
       "        vertical-align: middle;\n",
       "    }\n",
       "\n",
       "    .dataframe tbody tr th {\n",
       "        vertical-align: top;\n",
       "    }\n",
       "\n",
       "    .dataframe thead th {\n",
       "        text-align: right;\n",
       "    }\n",
       "</style>\n",
       "<table border=\"1\" class=\"dataframe\">\n",
       "  <thead>\n",
       "    <tr style=\"text-align: right;\">\n",
       "      <th></th>\n",
       "      <th>Pclass</th>\n",
       "      <th>Sex</th>\n",
       "      <th>Age</th>\n",
       "      <th>SibSp</th>\n",
       "      <th>Parch</th>\n",
       "      <th>Fare</th>\n",
       "      <th>Embarked</th>\n",
       "      <th>Deck</th>\n",
       "      <th>Title</th>\n",
       "    </tr>\n",
       "  </thead>\n",
       "  <tbody>\n",
       "    <tr>\n",
       "      <th>299</th>\n",
       "      <td>1</td>\n",
       "      <td>female</td>\n",
       "      <td>50.000000</td>\n",
       "      <td>0</td>\n",
       "      <td>1</td>\n",
       "      <td>247.5208</td>\n",
       "      <td>C</td>\n",
       "      <td>A-B-C</td>\n",
       "      <td>Mrs</td>\n",
       "    </tr>\n",
       "    <tr>\n",
       "      <th>523</th>\n",
       "      <td>1</td>\n",
       "      <td>female</td>\n",
       "      <td>44.000000</td>\n",
       "      <td>0</td>\n",
       "      <td>1</td>\n",
       "      <td>57.9792</td>\n",
       "      <td>C</td>\n",
       "      <td>A-B-C</td>\n",
       "      <td>Mrs</td>\n",
       "    </tr>\n",
       "    <tr>\n",
       "      <th>564</th>\n",
       "      <td>3</td>\n",
       "      <td>female</td>\n",
       "      <td>20.837349</td>\n",
       "      <td>0</td>\n",
       "      <td>0</td>\n",
       "      <td>8.0500</td>\n",
       "      <td>S</td>\n",
       "      <td>Unknown</td>\n",
       "      <td>Miss</td>\n",
       "    </tr>\n",
       "    <tr>\n",
       "      <th>175</th>\n",
       "      <td>3</td>\n",
       "      <td>male</td>\n",
       "      <td>18.000000</td>\n",
       "      <td>1</td>\n",
       "      <td>1</td>\n",
       "      <td>7.8542</td>\n",
       "      <td>S</td>\n",
       "      <td>Unknown</td>\n",
       "      <td>Mr</td>\n",
       "    </tr>\n",
       "    <tr>\n",
       "      <th>883</th>\n",
       "      <td>2</td>\n",
       "      <td>male</td>\n",
       "      <td>28.000000</td>\n",
       "      <td>0</td>\n",
       "      <td>0</td>\n",
       "      <td>10.5000</td>\n",
       "      <td>S</td>\n",
       "      <td>Unknown</td>\n",
       "      <td>Mr</td>\n",
       "    </tr>\n",
       "  </tbody>\n",
       "</table>\n",
       "</div>"
      ],
      "text/plain": [
       "     Pclass     Sex        Age  SibSp  Parch      Fare Embarked     Deck Title\n",
       "299       1  female  50.000000      0      1  247.5208        C    A-B-C   Mrs\n",
       "523       1  female  44.000000      0      1   57.9792        C    A-B-C   Mrs\n",
       "564       3  female  20.837349      0      0    8.0500        S  Unknown  Miss\n",
       "175       3    male  18.000000      1      1    7.8542        S  Unknown    Mr\n",
       "883       2    male  28.000000      0      0   10.5000        S  Unknown    Mr"
      ]
     },
     "execution_count": 26,
     "metadata": {},
     "output_type": "execute_result"
    }
   ],
   "source": [
    "X_train.head()"
   ]
  },
  {
   "attachments": {},
   "cell_type": "markdown",
   "metadata": {},
   "source": [
    "This is how our train data set looks so far. Let us keep going."
   ]
  },
  {
   "attachments": {},
   "cell_type": "markdown",
   "metadata": {},
   "source": [
    "##### Creating the 'Family_Size' feature"
   ]
  },
  {
   "attachments": {},
   "cell_type": "markdown",
   "metadata": {},
   "source": [
    "We will created the 'Family_Size' feature to capture information about the size of each passenger's family onboard. This feature is calculated by adding the number of siblings/spouses ('SibSp') and parents/children ('Parch') each passenger had, plus one to include the passenger themselves.\n",
    "\n",
    "To make the feature more manageable and informative, we further categorized family sizes into four groups: 'Alone,' 'Small,' 'Medium,' and 'Large.' Passengers traveling alone are labeled 'Alone,' while those with family sizes of 2 to 3 are labeled 'Small,' family sizes of 4 to 5 are labeled 'Medium,' and family sizes of 6 or more are labeled 'Large.'\n",
    "\n"
   ]
  },
  {
   "cell_type": "code",
   "execution_count": 27,
   "metadata": {},
   "outputs": [],
   "source": [
    "def modify_family_features(dataset):\n",
    "    dataset['FamilySize'] = dataset['SibSp'] + dataset['Parch'] + 1\n",
    "\n",
    "    # Categorize family size\n",
    "    dataset['FamilySizeCategory'] = 'Alone'\n",
    "    dataset.loc[(dataset['FamilySize'] >= 2) & (dataset['FamilySize'] <= 3), 'FamilySizeCategory'] = 'Small'\n",
    "    dataset.loc[(dataset['FamilySize'] >= 4) & (dataset['FamilySize'] <= 5), 'FamilySizeCategory'] = 'Medium'\n",
    "    dataset.loc[dataset['FamilySize'] >= 6, 'FamilySizeCategory'] = 'Large'\n",
    "    \n",
    "    return dataset\n",
    "\n",
    "# Apply the modification function to X_train and X_test\n",
    "X_train = modify_family_features(X_train)\n",
    "X_test = modify_family_features(X_test)\n"
   ]
  },
  {
   "cell_type": "code",
   "execution_count": 28,
   "metadata": {},
   "outputs": [
    {
     "data": {
      "text/html": [
       "<div>\n",
       "<style scoped>\n",
       "    .dataframe tbody tr th:only-of-type {\n",
       "        vertical-align: middle;\n",
       "    }\n",
       "\n",
       "    .dataframe tbody tr th {\n",
       "        vertical-align: top;\n",
       "    }\n",
       "\n",
       "    .dataframe thead th {\n",
       "        text-align: right;\n",
       "    }\n",
       "</style>\n",
       "<table border=\"1\" class=\"dataframe\">\n",
       "  <thead>\n",
       "    <tr style=\"text-align: right;\">\n",
       "      <th></th>\n",
       "      <th>Pclass</th>\n",
       "      <th>Sex</th>\n",
       "      <th>Age</th>\n",
       "      <th>SibSp</th>\n",
       "      <th>Parch</th>\n",
       "      <th>Fare</th>\n",
       "      <th>Embarked</th>\n",
       "      <th>Deck</th>\n",
       "      <th>Title</th>\n",
       "      <th>FamilySize</th>\n",
       "      <th>FamilySizeCategory</th>\n",
       "    </tr>\n",
       "  </thead>\n",
       "  <tbody>\n",
       "    <tr>\n",
       "      <th>299</th>\n",
       "      <td>1</td>\n",
       "      <td>female</td>\n",
       "      <td>50.000000</td>\n",
       "      <td>0</td>\n",
       "      <td>1</td>\n",
       "      <td>247.5208</td>\n",
       "      <td>C</td>\n",
       "      <td>A-B-C</td>\n",
       "      <td>Mrs</td>\n",
       "      <td>2</td>\n",
       "      <td>Small</td>\n",
       "    </tr>\n",
       "    <tr>\n",
       "      <th>523</th>\n",
       "      <td>1</td>\n",
       "      <td>female</td>\n",
       "      <td>44.000000</td>\n",
       "      <td>0</td>\n",
       "      <td>1</td>\n",
       "      <td>57.9792</td>\n",
       "      <td>C</td>\n",
       "      <td>A-B-C</td>\n",
       "      <td>Mrs</td>\n",
       "      <td>2</td>\n",
       "      <td>Small</td>\n",
       "    </tr>\n",
       "    <tr>\n",
       "      <th>564</th>\n",
       "      <td>3</td>\n",
       "      <td>female</td>\n",
       "      <td>20.837349</td>\n",
       "      <td>0</td>\n",
       "      <td>0</td>\n",
       "      <td>8.0500</td>\n",
       "      <td>S</td>\n",
       "      <td>Unknown</td>\n",
       "      <td>Miss</td>\n",
       "      <td>1</td>\n",
       "      <td>Alone</td>\n",
       "    </tr>\n",
       "    <tr>\n",
       "      <th>175</th>\n",
       "      <td>3</td>\n",
       "      <td>male</td>\n",
       "      <td>18.000000</td>\n",
       "      <td>1</td>\n",
       "      <td>1</td>\n",
       "      <td>7.8542</td>\n",
       "      <td>S</td>\n",
       "      <td>Unknown</td>\n",
       "      <td>Mr</td>\n",
       "      <td>3</td>\n",
       "      <td>Small</td>\n",
       "    </tr>\n",
       "    <tr>\n",
       "      <th>883</th>\n",
       "      <td>2</td>\n",
       "      <td>male</td>\n",
       "      <td>28.000000</td>\n",
       "      <td>0</td>\n",
       "      <td>0</td>\n",
       "      <td>10.5000</td>\n",
       "      <td>S</td>\n",
       "      <td>Unknown</td>\n",
       "      <td>Mr</td>\n",
       "      <td>1</td>\n",
       "      <td>Alone</td>\n",
       "    </tr>\n",
       "  </tbody>\n",
       "</table>\n",
       "</div>"
      ],
      "text/plain": [
       "     Pclass     Sex        Age  SibSp  Parch      Fare Embarked     Deck  \\\n",
       "299       1  female  50.000000      0      1  247.5208        C    A-B-C   \n",
       "523       1  female  44.000000      0      1   57.9792        C    A-B-C   \n",
       "564       3  female  20.837349      0      0    8.0500        S  Unknown   \n",
       "175       3    male  18.000000      1      1    7.8542        S  Unknown   \n",
       "883       2    male  28.000000      0      0   10.5000        S  Unknown   \n",
       "\n",
       "    Title  FamilySize FamilySizeCategory  \n",
       "299   Mrs           2              Small  \n",
       "523   Mrs           2              Small  \n",
       "564  Miss           1              Alone  \n",
       "175    Mr           3              Small  \n",
       "883    Mr           1              Alone  "
      ]
     },
     "execution_count": 28,
     "metadata": {},
     "output_type": "execute_result"
    }
   ],
   "source": [
    "X_train.head()"
   ]
  },
  {
   "attachments": {},
   "cell_type": "markdown",
   "metadata": {},
   "source": [
    "This feature engineering helps us understand the dynamics of family sizes among passengers and can potentially reveal insights about survival rates based on family size."
   ]
  },
  {
   "attachments": {},
   "cell_type": "markdown",
   "metadata": {},
   "source": [
    "##### Create 'AgeGroup'"
   ]
  },
  {
   "attachments": {},
   "cell_type": "markdown",
   "metadata": {},
   "source": [
    "To create this feature, we first convert the 'Age' column to integers and then use predefined age bins to categorize passengers. These bins cover various age ranges, from infants to elderly passengers. By categorizing passengers by age group, we can analyze survival rates and patterns among different age demographics, which may offer valuable insights into the Titanic's tragic events.\n",
    "\n",
    "\n",
    "\n",
    "\n"
   ]
  },
  {
   "cell_type": "code",
   "execution_count": 29,
   "metadata": {},
   "outputs": [],
   "source": [
    "def modify_age_features(dataset):\n",
    "    age_groups = {\n",
    "        0: 'Infant',\n",
    "        1: 'Children',\n",
    "        2: 'Adolescence',\n",
    "        3: 'Early Adulthood',\n",
    "        4: 'Adulthood',\n",
    "        5: 'Elderly'\n",
    "    }\n",
    "\n",
    "    dataset['Age'] = dataset['Age'].astype(int)\n",
    "    dataset['AgeGroup'] = pd.cut(dataset['Age'], bins=[-1, 1, 11, 17, 30, 64, 150], labels=False)\n",
    "    dataset['AgeGroup'] = dataset['AgeGroup'].map(age_groups)\n",
    "\n",
    "    return dataset\n",
    "\n",
    "# Apply the modification function to X_train and X_test\n",
    "X_train = modify_age_features(X_train)\n",
    "X_test = modify_age_features(X_test)\n"
   ]
  },
  {
   "cell_type": "code",
   "execution_count": 30,
   "metadata": {},
   "outputs": [
    {
     "data": {
      "text/html": [
       "<div>\n",
       "<style scoped>\n",
       "    .dataframe tbody tr th:only-of-type {\n",
       "        vertical-align: middle;\n",
       "    }\n",
       "\n",
       "    .dataframe tbody tr th {\n",
       "        vertical-align: top;\n",
       "    }\n",
       "\n",
       "    .dataframe thead th {\n",
       "        text-align: right;\n",
       "    }\n",
       "</style>\n",
       "<table border=\"1\" class=\"dataframe\">\n",
       "  <thead>\n",
       "    <tr style=\"text-align: right;\">\n",
       "      <th></th>\n",
       "      <th>Pclass</th>\n",
       "      <th>Sex</th>\n",
       "      <th>Age</th>\n",
       "      <th>SibSp</th>\n",
       "      <th>Parch</th>\n",
       "      <th>Fare</th>\n",
       "      <th>Embarked</th>\n",
       "      <th>Deck</th>\n",
       "      <th>Title</th>\n",
       "      <th>FamilySize</th>\n",
       "      <th>FamilySizeCategory</th>\n",
       "      <th>AgeGroup</th>\n",
       "    </tr>\n",
       "  </thead>\n",
       "  <tbody>\n",
       "    <tr>\n",
       "      <th>299</th>\n",
       "      <td>1</td>\n",
       "      <td>female</td>\n",
       "      <td>50</td>\n",
       "      <td>0</td>\n",
       "      <td>1</td>\n",
       "      <td>247.5208</td>\n",
       "      <td>C</td>\n",
       "      <td>A-B-C</td>\n",
       "      <td>Mrs</td>\n",
       "      <td>2</td>\n",
       "      <td>Small</td>\n",
       "      <td>Adulthood</td>\n",
       "    </tr>\n",
       "    <tr>\n",
       "      <th>523</th>\n",
       "      <td>1</td>\n",
       "      <td>female</td>\n",
       "      <td>44</td>\n",
       "      <td>0</td>\n",
       "      <td>1</td>\n",
       "      <td>57.9792</td>\n",
       "      <td>C</td>\n",
       "      <td>A-B-C</td>\n",
       "      <td>Mrs</td>\n",
       "      <td>2</td>\n",
       "      <td>Small</td>\n",
       "      <td>Adulthood</td>\n",
       "    </tr>\n",
       "    <tr>\n",
       "      <th>564</th>\n",
       "      <td>3</td>\n",
       "      <td>female</td>\n",
       "      <td>20</td>\n",
       "      <td>0</td>\n",
       "      <td>0</td>\n",
       "      <td>8.0500</td>\n",
       "      <td>S</td>\n",
       "      <td>Unknown</td>\n",
       "      <td>Miss</td>\n",
       "      <td>1</td>\n",
       "      <td>Alone</td>\n",
       "      <td>Early Adulthood</td>\n",
       "    </tr>\n",
       "    <tr>\n",
       "      <th>175</th>\n",
       "      <td>3</td>\n",
       "      <td>male</td>\n",
       "      <td>18</td>\n",
       "      <td>1</td>\n",
       "      <td>1</td>\n",
       "      <td>7.8542</td>\n",
       "      <td>S</td>\n",
       "      <td>Unknown</td>\n",
       "      <td>Mr</td>\n",
       "      <td>3</td>\n",
       "      <td>Small</td>\n",
       "      <td>Early Adulthood</td>\n",
       "    </tr>\n",
       "    <tr>\n",
       "      <th>883</th>\n",
       "      <td>2</td>\n",
       "      <td>male</td>\n",
       "      <td>28</td>\n",
       "      <td>0</td>\n",
       "      <td>0</td>\n",
       "      <td>10.5000</td>\n",
       "      <td>S</td>\n",
       "      <td>Unknown</td>\n",
       "      <td>Mr</td>\n",
       "      <td>1</td>\n",
       "      <td>Alone</td>\n",
       "      <td>Early Adulthood</td>\n",
       "    </tr>\n",
       "  </tbody>\n",
       "</table>\n",
       "</div>"
      ],
      "text/plain": [
       "     Pclass     Sex  Age  SibSp  Parch      Fare Embarked     Deck Title  \\\n",
       "299       1  female   50      0      1  247.5208        C    A-B-C   Mrs   \n",
       "523       1  female   44      0      1   57.9792        C    A-B-C   Mrs   \n",
       "564       3  female   20      0      0    8.0500        S  Unknown  Miss   \n",
       "175       3    male   18      1      1    7.8542        S  Unknown    Mr   \n",
       "883       2    male   28      0      0   10.5000        S  Unknown    Mr   \n",
       "\n",
       "     FamilySize FamilySizeCategory         AgeGroup  \n",
       "299           2              Small        Adulthood  \n",
       "523           2              Small        Adulthood  \n",
       "564           1              Alone  Early Adulthood  \n",
       "175           3              Small  Early Adulthood  \n",
       "883           1              Alone  Early Adulthood  "
      ]
     },
     "execution_count": 30,
     "metadata": {},
     "output_type": "execute_result"
    }
   ],
   "source": [
    "X_train.head()"
   ]
  },
  {
   "attachments": {},
   "cell_type": "markdown",
   "metadata": {},
   "source": [
    "##### Creating FarePerPerson and LogFarePerPerson"
   ]
  },
  {
   "attachments": {},
   "cell_type": "markdown",
   "metadata": {},
   "source": [
    "Next, we will create two new features, 'FarePerPerson' and 'LogFarePerPerson,' to better understand the distribution of fares among passengers. These features are designed to capture the fare amount per person, providing insights into how passengers paid for their tickets relative to their family size. The 'FarePerPerson' feature calculates the fare per person by dividing the fare amount by the family size. Meanwhile, the 'LogFarePerPerson' feature applies a logarithmic transformation to 'FarePerPerson,' which can help normalize the data distribution and reduce the impact of extreme fare values.\n",
    "\n",
    "Additionally, we've introduced the 'FareBin' feature, which categorizes fares into bins within each passenger class ('Pclass'). This step allows us to analyze fare patterns more effectively, considering the variations in ticket prices across different classes. These new features will enhance our ability to explore and model the data, potentially revealing relationships between fare payments and passenger characteristics.\n",
    "\n"
   ]
  },
  {
   "cell_type": "code",
   "execution_count": 31,
   "metadata": {},
   "outputs": [],
   "source": [
    "def create_fare_features(dataset):\n",
    "    dataset['Fare'] = dataset['Fare'].astype('int64')  # Convert Fare to int64\n",
    "    dataset['FarePerPerson'] = dataset['Fare'] / dataset['FamilySize']\n",
    "    dataset['LogFarePerPerson'] = np.log1p(dataset['FarePerPerson'])\n",
    "\n",
    "    return dataset\n",
    "\n",
    "# Apply the function to X_train and X_test\n",
    "X_train = create_fare_features(X_train)\n",
    "X_test = create_fare_features(X_test)\n"
   ]
  },
  {
   "cell_type": "code",
   "execution_count": 32,
   "metadata": {},
   "outputs": [
    {
     "data": {
      "image/png": "[encoded data removed]",
      "text/plain": [
       "<Figure size 640x480 with 1 Axes>"
      ]
     },
     "metadata": {},
     "output_type": "display_data"
    }
   ],
   "source": [
    "fare_per_person = X_train['FarePerPerson']\n",
    "\n",
    "# Create a histogram to visualize the distribution\n",
    "plt.hist(fare_per_person, bins=30, edgecolor='k')\n",
    "plt.xlabel('Fare Per Person')\n",
    "plt.ylabel('Count')\n",
    "plt.title('Distribution of Fare Per Person')\n",
    "plt.show()\n"
   ]
  },
  {
   "attachments": {},
   "cell_type": "markdown",
   "metadata": {},
   "source": [
    "The histogram above illustrates the distribution of fares per person ('Fare Per Person') among passengers. This visualization provides insights into the spread and concentration of fare values within the dataset. The majority of passengers appear to have lower fare values, while a smaller number of passengers have higher fares per person. Understanding this distribution is valuable for assessing the diversity of fare payments and their potential impact on other variables, including survival outcomes.\n",
    "\n",
    "\n",
    "\n",
    "\n"
   ]
  },
  {
   "cell_type": "code",
   "execution_count": 33,
   "metadata": {},
   "outputs": [
    {
     "data": {
      "image/png": "[encoded data removed]",
      "text/plain": [
       "<Figure size 640x480 with 1 Axes>"
      ]
     },
     "metadata": {},
     "output_type": "display_data"
    }
   ],
   "source": [
    "plt.hist(X_train['LogFarePerPerson'], bins=30, edgecolor='k')\n",
    "plt.xlabel('Log Fare Per Person')\n",
    "plt.ylabel('Count')\n",
    "plt.title('Distribution of Log Fare Per Person')\n",
    "plt.show()\n"
   ]
  },
  {
   "attachments": {},
   "cell_type": "markdown",
   "metadata": {},
   "source": [
    "The histogram displayed here showcases the distribution of the logarithm of the fare per person ('Log Fare Per Person') among passengers. Using the logarithm helps in transforming the fare values to make the distribution more visually interpretable and suitable for certain modeling techniques. In this transformed representation, the distribution appears to be closer to a normal distribution, which can be advantageous for modeling and analysis purposes. It helps to mitigate the impact of extreme values and provides a clearer view of the central tendency of fare per person values in the dataset.\n",
    "\n",
    "\n",
    "\n",
    "\n"
   ]
  },
  {
   "cell_type": "code",
   "execution_count": 34,
   "metadata": {},
   "outputs": [
    {
     "data": {
      "text/html": [
       "<div>\n",
       "<style scoped>\n",
       "    .dataframe tbody tr th:only-of-type {\n",
       "        vertical-align: middle;\n",
       "    }\n",
       "\n",
       "    .dataframe tbody tr th {\n",
       "        vertical-align: top;\n",
       "    }\n",
       "\n",
       "    .dataframe thead th {\n",
       "        text-align: right;\n",
       "    }\n",
       "</style>\n",
       "<table border=\"1\" class=\"dataframe\">\n",
       "  <thead>\n",
       "    <tr style=\"text-align: right;\">\n",
       "      <th></th>\n",
       "      <th>Pclass</th>\n",
       "      <th>Sex</th>\n",
       "      <th>Age</th>\n",
       "      <th>SibSp</th>\n",
       "      <th>Parch</th>\n",
       "      <th>Fare</th>\n",
       "      <th>Embarked</th>\n",
       "      <th>Deck</th>\n",
       "      <th>Title</th>\n",
       "      <th>FamilySize</th>\n",
       "      <th>FamilySizeCategory</th>\n",
       "      <th>AgeGroup</th>\n",
       "      <th>FarePerPerson</th>\n",
       "      <th>LogFarePerPerson</th>\n",
       "    </tr>\n",
       "  </thead>\n",
       "  <tbody>\n",
       "    <tr>\n",
       "      <th>299</th>\n",
       "      <td>1</td>\n",
       "      <td>female</td>\n",
       "      <td>50</td>\n",
       "      <td>0</td>\n",
       "      <td>1</td>\n",
       "      <td>247</td>\n",
       "      <td>C</td>\n",
       "      <td>A-B-C</td>\n",
       "      <td>Mrs</td>\n",
       "      <td>2</td>\n",
       "      <td>Small</td>\n",
       "      <td>Adulthood</td>\n",
       "      <td>123.500000</td>\n",
       "      <td>4.824306</td>\n",
       "    </tr>\n",
       "    <tr>\n",
       "      <th>523</th>\n",
       "      <td>1</td>\n",
       "      <td>female</td>\n",
       "      <td>44</td>\n",
       "      <td>0</td>\n",
       "      <td>1</td>\n",
       "      <td>57</td>\n",
       "      <td>C</td>\n",
       "      <td>A-B-C</td>\n",
       "      <td>Mrs</td>\n",
       "      <td>2</td>\n",
       "      <td>Small</td>\n",
       "      <td>Adulthood</td>\n",
       "      <td>28.500000</td>\n",
       "      <td>3.384390</td>\n",
       "    </tr>\n",
       "    <tr>\n",
       "      <th>564</th>\n",
       "      <td>3</td>\n",
       "      <td>female</td>\n",
       "      <td>20</td>\n",
       "      <td>0</td>\n",
       "      <td>0</td>\n",
       "      <td>8</td>\n",
       "      <td>S</td>\n",
       "      <td>Unknown</td>\n",
       "      <td>Miss</td>\n",
       "      <td>1</td>\n",
       "      <td>Alone</td>\n",
       "      <td>Early Adulthood</td>\n",
       "      <td>8.000000</td>\n",
       "      <td>2.197225</td>\n",
       "    </tr>\n",
       "    <tr>\n",
       "      <th>175</th>\n",
       "      <td>3</td>\n",
       "      <td>male</td>\n",
       "      <td>18</td>\n",
       "      <td>1</td>\n",
       "      <td>1</td>\n",
       "      <td>7</td>\n",
       "      <td>S</td>\n",
       "      <td>Unknown</td>\n",
       "      <td>Mr</td>\n",
       "      <td>3</td>\n",
       "      <td>Small</td>\n",
       "      <td>Early Adulthood</td>\n",
       "      <td>2.333333</td>\n",
       "      <td>1.203973</td>\n",
       "    </tr>\n",
       "    <tr>\n",
       "      <th>883</th>\n",
       "      <td>2</td>\n",
       "      <td>male</td>\n",
       "      <td>28</td>\n",
       "      <td>0</td>\n",
       "      <td>0</td>\n",
       "      <td>10</td>\n",
       "      <td>S</td>\n",
       "      <td>Unknown</td>\n",
       "      <td>Mr</td>\n",
       "      <td>1</td>\n",
       "      <td>Alone</td>\n",
       "      <td>Early Adulthood</td>\n",
       "      <td>10.000000</td>\n",
       "      <td>2.397895</td>\n",
       "    </tr>\n",
       "  </tbody>\n",
       "</table>\n",
       "</div>"
      ],
      "text/plain": [
       "     Pclass     Sex  Age  SibSp  Parch  Fare Embarked     Deck Title  \\\n",
       "299       1  female   50      0      1   247        C    A-B-C   Mrs   \n",
       "523       1  female   44      0      1    57        C    A-B-C   Mrs   \n",
       "564       3  female   20      0      0     8        S  Unknown  Miss   \n",
       "175       3    male   18      1      1     7        S  Unknown    Mr   \n",
       "883       2    male   28      0      0    10        S  Unknown    Mr   \n",
       "\n",
       "     FamilySize FamilySizeCategory         AgeGroup  FarePerPerson  \\\n",
       "299           2              Small        Adulthood     123.500000   \n",
       "523           2              Small        Adulthood      28.500000   \n",
       "564           1              Alone  Early Adulthood       8.000000   \n",
       "175           3              Small  Early Adulthood       2.333333   \n",
       "883           1              Alone  Early Adulthood      10.000000   \n",
       "\n",
       "     LogFarePerPerson  \n",
       "299          4.824306  \n",
       "523          3.384390  \n",
       "564          2.197225  \n",
       "175          1.203973  \n",
       "883          2.397895  "
      ]
     },
     "execution_count": 34,
     "metadata": {},
     "output_type": "execute_result"
    }
   ],
   "source": [
    "X_train.head()"
   ]
  },
  {
   "attachments": {},
   "cell_type": "markdown",
   "metadata": {},
   "source": [
    "##### Age*PClass"
   ]
  },
  {
   "attachments": {},
   "cell_type": "markdown",
   "metadata": {},
   "source": [
    "The 'Age * Pclass' feature is created by multiplying the passenger's age by their passenger class (Pclass). This feature aims to capture a combination of age and socioeconomic status, as represented by the passenger class. It can provide valuable insights into how age and class interact in terms of survival prediction. By multiplying these two variables, we create a new feature that potentially identifies patterns related to age and class that might not be as apparent when examining them individually. This feature can be particularly useful for certain machine learning algorithms that can leverage such interactions for improved predictive performance.\n",
    "\n",
    "\n",
    "\n",
    "\n"
   ]
  },
  {
   "cell_type": "code",
   "execution_count": 35,
   "metadata": {},
   "outputs": [],
   "source": [
    "def create_age_pclass_feature(dataset):\n",
    "    dataset['AgePclass'] = dataset['Age'] * dataset['Pclass']\n",
    "    return dataset\n",
    "\n",
    "# Apply the modification function to X_train and X_test\n",
    "X_train = create_age_pclass_feature(X_train)\n",
    "X_test = create_age_pclass_feature(X_test)"
   ]
  },
  {
   "cell_type": "code",
   "execution_count": 36,
   "metadata": {},
   "outputs": [
    {
     "data": {
      "text/html": [
       "<div>\n",
       "<style scoped>\n",
       "    .dataframe tbody tr th:only-of-type {\n",
       "        vertical-align: middle;\n",
       "    }\n",
       "\n",
       "    .dataframe tbody tr th {\n",
       "        vertical-align: top;\n",
       "    }\n",
       "\n",
       "    .dataframe thead th {\n",
       "        text-align: right;\n",
       "    }\n",
       "</style>\n",
       "<table border=\"1\" class=\"dataframe\">\n",
       "  <thead>\n",
       "    <tr style=\"text-align: right;\">\n",
       "      <th></th>\n",
       "      <th>Pclass</th>\n",
       "      <th>Sex</th>\n",
       "      <th>Age</th>\n",
       "      <th>SibSp</th>\n",
       "      <th>Parch</th>\n",
       "      <th>Fare</th>\n",
       "      <th>Embarked</th>\n",
       "      <th>Deck</th>\n",
       "      <th>Title</th>\n",
       "      <th>FamilySize</th>\n",
       "      <th>FamilySizeCategory</th>\n",
       "      <th>AgeGroup</th>\n",
       "      <th>FarePerPerson</th>\n",
       "      <th>LogFarePerPerson</th>\n",
       "      <th>AgePclass</th>\n",
       "    </tr>\n",
       "  </thead>\n",
       "  <tbody>\n",
       "    <tr>\n",
       "      <th>299</th>\n",
       "      <td>1</td>\n",
       "      <td>female</td>\n",
       "      <td>50</td>\n",
       "      <td>0</td>\n",
       "      <td>1</td>\n",
       "      <td>247</td>\n",
       "      <td>C</td>\n",
       "      <td>A-B-C</td>\n",
       "      <td>Mrs</td>\n",
       "      <td>2</td>\n",
       "      <td>Small</td>\n",
       "      <td>Adulthood</td>\n",
       "      <td>123.500000</td>\n",
       "      <td>4.824306</td>\n",
       "      <td>50</td>\n",
       "    </tr>\n",
       "    <tr>\n",
       "      <th>523</th>\n",
       "      <td>1</td>\n",
       "      <td>female</td>\n",
       "      <td>44</td>\n",
       "      <td>0</td>\n",
       "      <td>1</td>\n",
       "      <td>57</td>\n",
       "      <td>C</td>\n",
       "      <td>A-B-C</td>\n",
       "      <td>Mrs</td>\n",
       "      <td>2</td>\n",
       "      <td>Small</td>\n",
       "      <td>Adulthood</td>\n",
       "      <td>28.500000</td>\n",
       "      <td>3.384390</td>\n",
       "      <td>44</td>\n",
       "    </tr>\n",
       "    <tr>\n",
       "      <th>564</th>\n",
       "      <td>3</td>\n",
       "      <td>female</td>\n",
       "      <td>20</td>\n",
       "      <td>0</td>\n",
       "      <td>0</td>\n",
       "      <td>8</td>\n",
       "      <td>S</td>\n",
       "      <td>Unknown</td>\n",
       "      <td>Miss</td>\n",
       "      <td>1</td>\n",
       "      <td>Alone</td>\n",
       "      <td>Early Adulthood</td>\n",
       "      <td>8.000000</td>\n",
       "      <td>2.197225</td>\n",
       "      <td>60</td>\n",
       "    </tr>\n",
       "    <tr>\n",
       "      <th>175</th>\n",
       "      <td>3</td>\n",
       "      <td>male</td>\n",
       "      <td>18</td>\n",
       "      <td>1</td>\n",
       "      <td>1</td>\n",
       "      <td>7</td>\n",
       "      <td>S</td>\n",
       "      <td>Unknown</td>\n",
       "      <td>Mr</td>\n",
       "      <td>3</td>\n",
       "      <td>Small</td>\n",
       "      <td>Early Adulthood</td>\n",
       "      <td>2.333333</td>\n",
       "      <td>1.203973</td>\n",
       "      <td>54</td>\n",
       "    </tr>\n",
       "    <tr>\n",
       "      <th>883</th>\n",
       "      <td>2</td>\n",
       "      <td>male</td>\n",
       "      <td>28</td>\n",
       "      <td>0</td>\n",
       "      <td>0</td>\n",
       "      <td>10</td>\n",
       "      <td>S</td>\n",
       "      <td>Unknown</td>\n",
       "      <td>Mr</td>\n",
       "      <td>1</td>\n",
       "      <td>Alone</td>\n",
       "      <td>Early Adulthood</td>\n",
       "      <td>10.000000</td>\n",
       "      <td>2.397895</td>\n",
       "      <td>56</td>\n",
       "    </tr>\n",
       "    <tr>\n",
       "      <th>...</th>\n",
       "      <td>...</td>\n",
       "      <td>...</td>\n",
       "      <td>...</td>\n",
       "      <td>...</td>\n",
       "      <td>...</td>\n",
       "      <td>...</td>\n",
       "      <td>...</td>\n",
       "      <td>...</td>\n",
       "      <td>...</td>\n",
       "      <td>...</td>\n",
       "      <td>...</td>\n",
       "      <td>...</td>\n",
       "      <td>...</td>\n",
       "      <td>...</td>\n",
       "      <td>...</td>\n",
       "    </tr>\n",
       "    <tr>\n",
       "      <th>627</th>\n",
       "      <td>1</td>\n",
       "      <td>female</td>\n",
       "      <td>21</td>\n",
       "      <td>0</td>\n",
       "      <td>0</td>\n",
       "      <td>77</td>\n",
       "      <td>S</td>\n",
       "      <td>D-E</td>\n",
       "      <td>Miss</td>\n",
       "      <td>1</td>\n",
       "      <td>Alone</td>\n",
       "      <td>Early Adulthood</td>\n",
       "      <td>77.000000</td>\n",
       "      <td>4.356709</td>\n",
       "      <td>21</td>\n",
       "    </tr>\n",
       "    <tr>\n",
       "      <th>799</th>\n",
       "      <td>3</td>\n",
       "      <td>female</td>\n",
       "      <td>30</td>\n",
       "      <td>1</td>\n",
       "      <td>1</td>\n",
       "      <td>24</td>\n",
       "      <td>S</td>\n",
       "      <td>Unknown</td>\n",
       "      <td>Mrs</td>\n",
       "      <td>3</td>\n",
       "      <td>Small</td>\n",
       "      <td>Early Adulthood</td>\n",
       "      <td>8.000000</td>\n",
       "      <td>2.197225</td>\n",
       "      <td>90</td>\n",
       "    </tr>\n",
       "    <tr>\n",
       "      <th>575</th>\n",
       "      <td>3</td>\n",
       "      <td>male</td>\n",
       "      <td>19</td>\n",
       "      <td>0</td>\n",
       "      <td>0</td>\n",
       "      <td>14</td>\n",
       "      <td>S</td>\n",
       "      <td>Unknown</td>\n",
       "      <td>Mr</td>\n",
       "      <td>1</td>\n",
       "      <td>Alone</td>\n",
       "      <td>Early Adulthood</td>\n",
       "      <td>14.000000</td>\n",
       "      <td>2.708050</td>\n",
       "      <td>57</td>\n",
       "    </tr>\n",
       "    <tr>\n",
       "      <th>390</th>\n",
       "      <td>1</td>\n",
       "      <td>male</td>\n",
       "      <td>36</td>\n",
       "      <td>1</td>\n",
       "      <td>2</td>\n",
       "      <td>120</td>\n",
       "      <td>S</td>\n",
       "      <td>A-B-C</td>\n",
       "      <td>Mr</td>\n",
       "      <td>4</td>\n",
       "      <td>Medium</td>\n",
       "      <td>Adulthood</td>\n",
       "      <td>30.000000</td>\n",
       "      <td>3.433987</td>\n",
       "      <td>36</td>\n",
       "    </tr>\n",
       "    <tr>\n",
       "      <th>72</th>\n",
       "      <td>2</td>\n",
       "      <td>male</td>\n",
       "      <td>21</td>\n",
       "      <td>0</td>\n",
       "      <td>0</td>\n",
       "      <td>73</td>\n",
       "      <td>S</td>\n",
       "      <td>Unknown</td>\n",
       "      <td>Mr</td>\n",
       "      <td>1</td>\n",
       "      <td>Alone</td>\n",
       "      <td>Early Adulthood</td>\n",
       "      <td>73.000000</td>\n",
       "      <td>4.304065</td>\n",
       "      <td>42</td>\n",
       "    </tr>\n",
       "  </tbody>\n",
       "</table>\n",
       "<p>712 rows × 15 columns</p>\n",
       "</div>"
      ],
      "text/plain": [
       "     Pclass     Sex  Age  SibSp  Parch  Fare Embarked     Deck Title  \\\n",
       "299       1  female   50      0      1   247        C    A-B-C   Mrs   \n",
       "523       1  female   44      0      1    57        C    A-B-C   Mrs   \n",
       "564       3  female   20      0      0     8        S  Unknown  Miss   \n",
       "175       3    male   18      1      1     7        S  Unknown    Mr   \n",
       "883       2    male   28      0      0    10        S  Unknown    Mr   \n",
       "..      ...     ...  ...    ...    ...   ...      ...      ...   ...   \n",
       "627       1  female   21      0      0    77        S      D-E  Miss   \n",
       "799       3  female   30      1      1    24        S  Unknown   Mrs   \n",
       "575       3    male   19      0      0    14        S  Unknown    Mr   \n",
       "390       1    male   36      1      2   120        S    A-B-C    Mr   \n",
       "72        2    male   21      0      0    73        S  Unknown    Mr   \n",
       "\n",
       "     FamilySize FamilySizeCategory         AgeGroup  FarePerPerson  \\\n",
       "299           2              Small        Adulthood     123.500000   \n",
       "523           2              Small        Adulthood      28.500000   \n",
       "564           1              Alone  Early Adulthood       8.000000   \n",
       "175           3              Small  Early Adulthood       2.333333   \n",
       "883           1              Alone  Early Adulthood      10.000000   \n",
       "..          ...                ...              ...            ...   \n",
       "627           1              Alone  Early Adulthood      77.000000   \n",
       "799           3              Small  Early Adulthood       8.000000   \n",
       "575           1              Alone  Early Adulthood      14.000000   \n",
       "390           4             Medium        Adulthood      30.000000   \n",
       "72            1              Alone  Early Adulthood      73.000000   \n",
       "\n",
       "     LogFarePerPerson  AgePclass  \n",
       "299          4.824306         50  \n",
       "523          3.384390         44  \n",
       "564          2.197225         60  \n",
       "175          1.203973         54  \n",
       "883          2.397895         56  \n",
       "..                ...        ...  \n",
       "627          4.356709         21  \n",
       "799          2.197225         90  \n",
       "575          2.708050         57  \n",
       "390          3.433987         36  \n",
       "72           4.304065         42  \n",
       "\n",
       "[712 rows x 15 columns]"
      ]
     },
     "execution_count": 36,
     "metadata": {},
     "output_type": "execute_result"
    }
   ],
   "source": [
    "X_train"
   ]
  },
  {
   "attachments": {},
   "cell_type": "markdown",
   "metadata": {},
   "source": [
    "### Encoding and Standardization"
   ]
  },
  {
   "attachments": {},
   "cell_type": "markdown",
   "metadata": {},
   "source": [
    "In this section, we perform encoding and standardization of the dataset's features to prepare them for machine learning models. The dataset columns include both categorical and numerical features, and the encoding and standardization steps are as follows:\n",
    "\n"
   ]
  },
  {
   "cell_type": "code",
   "execution_count": 37,
   "metadata": {},
   "outputs": [
    {
     "data": {
      "text/plain": [
       "Index(['Pclass', 'Sex', 'Age', 'SibSp', 'Parch', 'Fare', 'Embarked', 'Deck',\n",
       "       'Title', 'FamilySize', 'FamilySizeCategory', 'AgeGroup',\n",
       "       'FarePerPerson', 'LogFarePerPerson', 'AgePclass'],\n",
       "      dtype='object')"
      ]
     },
     "execution_count": 37,
     "metadata": {},
     "output_type": "execute_result"
    }
   ],
   "source": [
    "X_train.columns"
   ]
  },
  {
   "attachments": {},
   "cell_type": "markdown",
   "metadata": {},
   "source": [
    "- Categorical Features: The categorical features in the dataset are 'Sex', 'Embarked', 'Title', 'Deck', 'FamilySizeCategory', and 'AgeGroup'. These categorical features need to be one-hot encoded to convert them into a numerical format that can be used by machine learning models. One-hot encoding creates binary columns for each category within a feature.\n",
    "\n",
    "- Numerical Features: The numerical features in the dataset include 'Age', 'FamilySize', 'Pclass', and 'AgePclass'.' These features are standardized using StandardScaler. Standardization scales the numerical features to have a mean of 0 and a standard deviation of 1, which is important for many machine learning algorithms.\n",
    "\n",
    "- LogFarePerPerson Feature: The 'LogFarePerPerson' feature is a numerical feature that represents the logarithm of the 'FarePerPerson' feature. This feature is kept as is and not standardized because it's already on a logarithmic scale.\n",
    "\n"
   ]
  },
  {
   "cell_type": "code",
   "execution_count": 38,
   "metadata": {},
   "outputs": [],
   "source": [
    "# Categorical features\n",
    "categorical_features = ['Sex', 'Embarked', 'Title', 'Deck', 'FamilySizeCategory', 'AgeGroup']\n",
    "\n",
    "# Numerical features\n",
    "numerical_features = ['Age', 'FamilySize', 'Pclass', 'AgePclass']\n",
    "\n",
    "# Define the column transformer\n",
    "preprocessor = ColumnTransformer(\n",
    "    transformers=[\n",
    "        ('cat', OneHotEncoder(), categorical_features),\n",
    "        ('num', StandardScaler(), numerical_features),\n",
    "        ('logfare', 'passthrough', ['LogFarePerPerson'])\n",
    "    ])\n",
    "\n",
    "# Apply the column transformer to X_train\n",
    "X_train_encoded = preprocessor.fit_transform(X_train)\n",
    "X_train_encoded = pd.DataFrame(X_train_encoded, columns=preprocessor.get_feature_names_out())\n",
    "\n",
    "# Apply the same column transformer to X_test\n",
    "X_test_encoded = preprocessor.transform(X_test)\n",
    "X_test_encoded = pd.DataFrame(X_test_encoded, columns=preprocessor.get_feature_names_out())\n"
   ]
  },
  {
   "attachments": {},
   "cell_type": "markdown",
   "metadata": {},
   "source": [
    "The ColumnTransformer is used to apply these transformations to the respective feature groups. After encoding and standardization, the transformed features are stored in new DataFrames, X_train_encoded and X_test_encoded, which are ready to be used for model training and testing. This preprocessing step ensures that the data is in a suitable format for various machine learning algorithms.\n",
    "\n",
    "Please note that 'SibSp' and 'Parch' will not be included in the final feature set for modeling. This decision is made because the information contained in these two features is already adequately represented by the 'FamilySize' in numerical features and 'FamilySizeCategory' in categorical features. Keeping the original 'SibSp' and 'Parch' features could lead to multicollinearity, as their information is essentially captured by the more descriptive 'FamilySize' and 'FamilySizeCategory' features. \n",
    "\n",
    "- 'FamilySize' and 'FamilySizeCategory' are both retained because they provide complementary information about family size, with 'FamilySize' being the numerical representation and 'FamilySizeCategory' offering a categorical grouping.\n",
    "\n",
    "Further, some other features are also retained because they offer unique and non-redundant information, either in the form of numerical precision ('Age,' 'Pclass,' 'AgePclass') or categorical grouping ('AgeGroup'). This allows for a richer representation of the data while avoiding multicollinearity issues.\n",
    "\n",
    "- 'Age' and 'AgeGroup' are retained because they capture different aspects of age-related information. 'Age' represents the exact age of passengers, while 'AgeGroup' categorizes passengers into age groups for a more generalized view.\n",
    "\n",
    "- 'Pclass' is retained as it represents the passenger class, an important feature for analysis.\n",
    "\n",
    "- 'AgePclass' is retained as it represents the interaction between 'Age' and 'Pclass,' providing additional information that may be relevant for modeling.\n",
    "\n",
    "\n"
   ]
  },
  {
   "attachments": {},
   "cell_type": "markdown",
   "metadata": {},
   "source": [
    "### Training the data"
   ]
  },
  {
   "attachments": {},
   "cell_type": "markdown",
   "metadata": {},
   "source": [
    "Next, let's define a function named evaluate_model that helps assess the performance of a machine learning model:\n"
   ]
  },
  {
   "cell_type": "code",
   "execution_count": 39,
   "metadata": {},
   "outputs": [],
   "source": [
    "def evaluate_model(model, X_train_encoded, y_train, X_test_encoded, y_test):\n",
    "    # Train the model\n",
    "    model.fit(X_train_encoded, y_train)\n",
    "\n",
    "    # Make predictions on the test set\n",
    "    predictions = model.predict(X_test_encoded)\n",
    "\n",
    "    # Calculate the accuracy of the model\n",
    "    accuracy = accuracy_score(y_test, predictions)\n",
    "\n",
    "    # Calculate precision\n",
    "    precision = precision_score(y_test, predictions)\n",
    "\n",
    "    # Calculate recall\n",
    "    recall = recall_score(y_test, predictions)\n",
    "\n",
    "    # Calculate F1-score\n",
    "    f1 = f1_score(y_test, predictions)\n",
    "\n",
    "    # Print accuracy\n",
    "    print(\"Accuracy:\", accuracy)\n",
    "\n",
    "    # Perform k-fold cross-validation\n",
    "    cv_scores = cross_val_score(model, X_train_encoded, y_train, cv=10, scoring='accuracy')\n",
    "\n",
    "    # Print the cross-validation scores\n",
    "    print('>>>>>>>>>>>>>')\n",
    "    print(\"Mean CV Accuracy:\", cv_scores.mean())\n",
    "    print('Standard Deviation:', cv_scores.std())\n",
    "\n",
    "    # Print other metrics\n",
    "    print('>>>>>>>>>>>>>')\n",
    "    print(\"Precision:\", precision)\n",
    "    print(\"Recall:\", recall)\n",
    "    print(\"F1-score:\", f1)"
   ]
  },
  {
   "attachments": {},
   "cell_type": "markdown",
   "metadata": {},
   "source": [
    "Training the Model: The function starts by training the specified machine learning model using the provided encoded training data (X_train_encoded) and the corresponding training labels (y_train).\n",
    "\n",
    "Making Predictions: Once the model is trained, it uses it to make predictions on a separate dataset, which is the encoded test data (X_test_encoded).\n",
    "\n",
    "Calculating Metrics:\n",
    "\n",
    "- Accuracy: It calculates the accuracy of the model's predictions by comparing them to the actual test labels (y_test). Accuracy tells us how often the model's predictions match the true outcomes.\n",
    "- Precision: Precision is a measure of the model's ability to correctly identify positive cases (e.g., survivors in a Titanic dataset) among all cases it predicts as positive. It's the ratio of true positives to all predicted positives.\n",
    "- Recall: Recall is a measure of the model's ability to find all positive cases. It's the ratio of true positives to all actual positives.\n",
    "- F1-Score: The F1-score is a combined metric that balances precision and recall. It's useful when there's an imbalance between positive and negative cases.\n",
    "Cross-Validation: The code also performs k-fold cross-validation (k=10) on the training data. Cross-validation helps assess how well the model generalizes to unseen data and provides a mean accuracy score along with its standard deviation.\n",
    "\n",
    "Printing Metrics: The function prints out these performance metrics, making it easy to evaluate how well the model is performing. These metrics are essential for understanding the strengths and weaknesses of the machine learning model.\n",
    "\n",
    "In summary, the evaluate_model function trains a model, evaluates its performance on a test dataset, and reports key metrics, including accuracy, precision, recall, and F1-score. It also provides insights into the model's consistency through cross-validation. This helps you make informed decisions about the model's suitability for your specific task.\n",
    "\n",
    "Next, we will assess the performance of several models calling the 'evaluated_model' function!\n",
    "\n",
    "\n"
   ]
  },
  {
   "attachments": {},
   "cell_type": "markdown",
   "metadata": {},
   "source": [
    "#### SVM"
   ]
  },
  {
   "cell_type": "code",
   "execution_count": 40,
   "metadata": {},
   "outputs": [
    {
     "name": "stdout",
     "output_type": "stream",
     "text": [
      "Accuracy: 0.8435754189944135\n",
      ">>>>>>>>>>>>>\n",
      "Mean CV Accuracy: 0.8273474178403756\n",
      "Standard Deviation: 0.049078579201668096\n",
      ">>>>>>>>>>>>>\n",
      "Precision: 0.8833333333333333\n",
      "Recall: 0.7162162162162162\n",
      "F1-score: 0.791044776119403\n"
     ]
    }
   ],
   "source": [
    "# Initialize the SVM model\n",
    "svm_model = SVC(random_state=420)\n",
    "\n",
    "# Call the evaluate_model function\n",
    "evaluate_model(svm_model, X_train_encoded, y_train, X_test_encoded, y_test)\n"
   ]
  },
  {
   "attachments": {},
   "cell_type": "markdown",
   "metadata": {},
   "source": [
    "#### LogisticRegression"
   ]
  },
  {
   "cell_type": "code",
   "execution_count": 41,
   "metadata": {},
   "outputs": [
    {
     "name": "stdout",
     "output_type": "stream",
     "text": [
      "Accuracy: 0.8324022346368715\n",
      ">>>>>>>>>>>>>\n",
      "Mean CV Accuracy: 0.8160993740219092\n",
      "Standard Deviation: 0.04897150735504339\n",
      ">>>>>>>>>>>>>\n",
      "Precision: 0.8235294117647058\n",
      "Recall: 0.7567567567567568\n",
      "F1-score: 0.7887323943661971\n"
     ]
    }
   ],
   "source": [
    "# Initialize the Logistic Regression model\n",
    "logreg_model = LogisticRegression(random_state=420)\n",
    "\n",
    "# Call the evaluate_model function\n",
    "evaluate_model(logreg_model, X_train_encoded, y_train, X_test_encoded, y_test)"
   ]
  },
  {
   "attachments": {},
   "cell_type": "markdown",
   "metadata": {},
   "source": [
    "#### XGBoost Classifier"
   ]
  },
  {
   "cell_type": "code",
   "execution_count": 42,
   "metadata": {},
   "outputs": [
    {
     "name": "stdout",
     "output_type": "stream",
     "text": [
      "Accuracy: 0.7932960893854749\n",
      ">>>>>>>>>>>>>\n",
      "Mean CV Accuracy: 0.8216353677621283\n",
      "Standard Deviation: 0.04767064691470437\n",
      ">>>>>>>>>>>>>\n",
      "Precision: 0.8135593220338984\n",
      "Recall: 0.6486486486486487\n",
      "F1-score: 0.7218045112781954\n"
     ]
    }
   ],
   "source": [
    "# Initialize the XGBoost Classifier model\n",
    "xgb_model = XGBClassifier(random_state=420)\n",
    "\n",
    "# Call the evaluate_model function\n",
    "evaluate_model(xgb_model, X_train_encoded, y_train, X_test_encoded, y_test)"
   ]
  },
  {
   "cell_type": "markdown",
   "metadata": {},
   "source": [
    "#### RandomForest"
   ]
  },
  {
   "cell_type": "code",
   "execution_count": 43,
   "metadata": {},
   "outputs": [
    {
     "name": "stdout",
     "output_type": "stream",
     "text": [
      "Accuracy: 0.8268156424581006\n",
      ">>>>>>>>>>>>>\n",
      "Mean CV Accuracy: 0.8103286384976526\n",
      "Standard Deviation: 0.044326590115694633\n",
      ">>>>>>>>>>>>>\n",
      "Precision: 0.8524590163934426\n",
      "Recall: 0.7027027027027027\n",
      "F1-score: 0.7703703703703704\n"
     ]
    }
   ],
   "source": [
    "# Initialize the Random Forest model\n",
    "rf_model = RandomForestClassifier(random_state=420)\n",
    "\n",
    "# Call the evaluate_model function\n",
    "evaluate_model(rf_model, X_train_encoded, y_train, X_test_encoded, y_test)"
   ]
  },
  {
   "attachments": {},
   "cell_type": "markdown",
   "metadata": {},
   "source": [
    "#### KNN"
   ]
  },
  {
   "cell_type": "code",
   "execution_count": 44,
   "metadata": {},
   "outputs": [
    {
     "name": "stdout",
     "output_type": "stream",
     "text": [
      "Accuracy: 0.8044692737430168\n",
      ">>>>>>>>>>>>>\n",
      "Mean CV Accuracy: 0.8089788732394366\n",
      "Standard Deviation: 0.04550998635982705\n",
      ">>>>>>>>>>>>>\n",
      "Precision: 0.8095238095238095\n",
      "Recall: 0.6891891891891891\n",
      "F1-score: 0.7445255474452555\n"
     ]
    }
   ],
   "source": [
    "# Initialize the KNN model\n",
    "knn_model = KNeighborsClassifier()\n",
    "\n",
    "# Call the evaluate_model function\n",
    "evaluate_model(knn_model, X_train_encoded, y_train, X_test_encoded, y_test)\n"
   ]
  },
  {
   "attachments": {},
   "cell_type": "markdown",
   "metadata": {},
   "source": [
    "#### DecisionTree"
   ]
  },
  {
   "cell_type": "code",
   "execution_count": 45,
   "metadata": {},
   "outputs": [
    {
     "name": "stdout",
     "output_type": "stream",
     "text": [
      "Accuracy: 0.7877094972067039\n",
      ">>>>>>>>>>>>>\n",
      "Mean CV Accuracy: 0.7724569640062598\n",
      "Standard Deviation: 0.033732397996318116\n",
      ">>>>>>>>>>>>>\n",
      "Precision: 0.8103448275862069\n",
      "Recall: 0.6351351351351351\n",
      "F1-score: 0.712121212121212\n"
     ]
    }
   ],
   "source": [
    "# Initialize the Decision Tree model\n",
    "dt_model = DecisionTreeClassifier(random_state=420)\n",
    "\n",
    "# Call the evaluate_model function\n",
    "evaluate_model(dt_model, X_train_encoded, y_train, X_test_encoded, y_test)\n"
   ]
  },
  {
   "attachments": {},
   "cell_type": "markdown",
   "metadata": {},
   "source": [
    "#### Gaussian Nayve Bayes"
   ]
  },
  {
   "cell_type": "code",
   "execution_count": 46,
   "metadata": {},
   "outputs": [
    {
     "name": "stdout",
     "output_type": "stream",
     "text": [
      "Accuracy: 0.8715083798882681\n",
      ">>>>>>>>>>>>>\n",
      "Mean CV Accuracy: 0.7794796557120501\n",
      "Standard Deviation: 0.06759574179662704\n",
      ">>>>>>>>>>>>>\n",
      "Precision: 0.8311688311688312\n",
      "Recall: 0.8648648648648649\n",
      "F1-score: 0.847682119205298\n"
     ]
    }
   ],
   "source": [
    "# Initialize the Gaussian Naive Bayes model\n",
    "gnb_model = GaussianNB()\n",
    "\n",
    "# Call the evaluate_model function\n",
    "evaluate_model(gnb_model, X_train_encoded, y_train, X_test_encoded, y_test)\n",
    "\n"
   ]
  },
  {
   "attachments": {},
   "cell_type": "markdown",
   "metadata": {},
   "source": [
    "#### Perceptron"
   ]
  },
  {
   "cell_type": "code",
   "execution_count": 47,
   "metadata": {},
   "outputs": [
    {
     "name": "stdout",
     "output_type": "stream",
     "text": [
      "Accuracy: 0.770949720670391\n",
      ">>>>>>>>>>>>>\n",
      "Mean CV Accuracy: 0.7189162754303599\n",
      "Standard Deviation: 0.09361960487199295\n",
      ">>>>>>>>>>>>>\n",
      "Precision: 0.6633663366336634\n",
      "Recall: 0.9054054054054054\n",
      "F1-score: 0.7657142857142858\n"
     ]
    }
   ],
   "source": [
    "# Initialize the Perceptron model\n",
    "perceptron_model = Perceptron(random_state=420)\n",
    "\n",
    "# Call the evaluate_model function\n",
    "evaluate_model(perceptron_model, X_train_encoded, y_train, X_test_encoded, y_test)\n"
   ]
  },
  {
   "attachments": {},
   "cell_type": "markdown",
   "metadata": {},
   "source": [
    "#### Gradient Descent"
   ]
  },
  {
   "cell_type": "code",
   "execution_count": 48,
   "metadata": {},
   "outputs": [
    {
     "name": "stdout",
     "output_type": "stream",
     "text": [
      "Accuracy: 0.8379888268156425\n",
      ">>>>>>>>>>>>>\n",
      "Mean CV Accuracy: 0.8021322378716744\n",
      "Standard Deviation: 0.059815108657870715\n",
      ">>>>>>>>>>>>>\n",
      "Precision: 0.8688524590163934\n",
      "Recall: 0.7162162162162162\n",
      "F1-score: 0.7851851851851852\n"
     ]
    }
   ],
   "source": [
    "# Initialize the Stochastic Gradient Descent model\n",
    "sgd_model = SGDClassifier(random_state=420)\n",
    "\n",
    "# Call the evaluate_model function\n",
    "evaluate_model(sgd_model, X_train_encoded, y_train, X_test_encoded, y_test)"
   ]
  },
  {
   "attachments": {},
   "cell_type": "markdown",
   "metadata": {},
   "source": [
    "#### Analyzing the best score"
   ]
  },
  {
   "attachments": {},
   "cell_type": "markdown",
   "metadata": {},
   "source": [
    " The following code evaluates the machine learning models, stores their performance metrics, and ranks them based on accuracy and mean cross-validation accuracy to identify the most suitable model for the task."
   ]
  },
  {
   "cell_type": "code",
   "execution_count": 49,
   "metadata": {},
   "outputs": [
    {
     "name": "stderr",
     "output_type": "stream",
     "text": [
      "/var/folders/m5/ybf1jmhx2y1c7ryc43kq60cr0000gn/T/ipykernel_3534/2191462095.py:28: FutureWarning:\n",
      "\n",
      "The frame.append method is deprecated and will be removed from pandas in a future version. Use pandas.concat instead.\n",
      "\n",
      "/var/folders/m5/ybf1jmhx2y1c7ryc43kq60cr0000gn/T/ipykernel_3534/2191462095.py:31: FutureWarning:\n",
      "\n",
      "The frame.append method is deprecated and will be removed from pandas in a future version. Use pandas.concat instead.\n",
      "\n",
      "/var/folders/m5/ybf1jmhx2y1c7ryc43kq60cr0000gn/T/ipykernel_3534/2191462095.py:28: FutureWarning:\n",
      "\n",
      "The frame.append method is deprecated and will be removed from pandas in a future version. Use pandas.concat instead.\n",
      "\n",
      "/var/folders/m5/ybf1jmhx2y1c7ryc43kq60cr0000gn/T/ipykernel_3534/2191462095.py:31: FutureWarning:\n",
      "\n",
      "The frame.append method is deprecated and will be removed from pandas in a future version. Use pandas.concat instead.\n",
      "\n",
      "/var/folders/m5/ybf1jmhx2y1c7ryc43kq60cr0000gn/T/ipykernel_3534/2191462095.py:28: FutureWarning:\n",
      "\n",
      "The frame.append method is deprecated and will be removed from pandas in a future version. Use pandas.concat instead.\n",
      "\n",
      "/var/folders/m5/ybf1jmhx2y1c7ryc43kq60cr0000gn/T/ipykernel_3534/2191462095.py:31: FutureWarning:\n",
      "\n",
      "The frame.append method is deprecated and will be removed from pandas in a future version. Use pandas.concat instead.\n",
      "\n",
      "/var/folders/m5/ybf1jmhx2y1c7ryc43kq60cr0000gn/T/ipykernel_3534/2191462095.py:28: FutureWarning:\n",
      "\n",
      "The frame.append method is deprecated and will be removed from pandas in a future version. Use pandas.concat instead.\n",
      "\n",
      "/var/folders/m5/ybf1jmhx2y1c7ryc43kq60cr0000gn/T/ipykernel_3534/2191462095.py:31: FutureWarning:\n",
      "\n",
      "The frame.append method is deprecated and will be removed from pandas in a future version. Use pandas.concat instead.\n",
      "\n",
      "/var/folders/m5/ybf1jmhx2y1c7ryc43kq60cr0000gn/T/ipykernel_3534/2191462095.py:28: FutureWarning:\n",
      "\n",
      "The frame.append method is deprecated and will be removed from pandas in a future version. Use pandas.concat instead.\n",
      "\n",
      "/var/folders/m5/ybf1jmhx2y1c7ryc43kq60cr0000gn/T/ipykernel_3534/2191462095.py:31: FutureWarning:\n",
      "\n",
      "The frame.append method is deprecated and will be removed from pandas in a future version. Use pandas.concat instead.\n",
      "\n",
      "/var/folders/m5/ybf1jmhx2y1c7ryc43kq60cr0000gn/T/ipykernel_3534/2191462095.py:28: FutureWarning:\n",
      "\n",
      "The frame.append method is deprecated and will be removed from pandas in a future version. Use pandas.concat instead.\n",
      "\n",
      "/var/folders/m5/ybf1jmhx2y1c7ryc43kq60cr0000gn/T/ipykernel_3534/2191462095.py:31: FutureWarning:\n",
      "\n",
      "The frame.append method is deprecated and will be removed from pandas in a future version. Use pandas.concat instead.\n",
      "\n",
      "/var/folders/m5/ybf1jmhx2y1c7ryc43kq60cr0000gn/T/ipykernel_3534/2191462095.py:28: FutureWarning:\n",
      "\n",
      "The frame.append method is deprecated and will be removed from pandas in a future version. Use pandas.concat instead.\n",
      "\n",
      "/var/folders/m5/ybf1jmhx2y1c7ryc43kq60cr0000gn/T/ipykernel_3534/2191462095.py:31: FutureWarning:\n",
      "\n",
      "The frame.append method is deprecated and will be removed from pandas in a future version. Use pandas.concat instead.\n",
      "\n",
      "/var/folders/m5/ybf1jmhx2y1c7ryc43kq60cr0000gn/T/ipykernel_3534/2191462095.py:28: FutureWarning:\n",
      "\n",
      "The frame.append method is deprecated and will be removed from pandas in a future version. Use pandas.concat instead.\n",
      "\n",
      "/var/folders/m5/ybf1jmhx2y1c7ryc43kq60cr0000gn/T/ipykernel_3534/2191462095.py:31: FutureWarning:\n",
      "\n",
      "The frame.append method is deprecated and will be removed from pandas in a future version. Use pandas.concat instead.\n",
      "\n",
      "/var/folders/m5/ybf1jmhx2y1c7ryc43kq60cr0000gn/T/ipykernel_3534/2191462095.py:28: FutureWarning:\n",
      "\n",
      "The frame.append method is deprecated and will be removed from pandas in a future version. Use pandas.concat instead.\n",
      "\n",
      "/var/folders/m5/ybf1jmhx2y1c7ryc43kq60cr0000gn/T/ipykernel_3534/2191462095.py:31: FutureWarning:\n",
      "\n",
      "The frame.append method is deprecated and will be removed from pandas in a future version. Use pandas.concat instead.\n",
      "\n"
     ]
    }
   ],
   "source": [
    "# Define the models and their corresponding names\n",
    "models = [logreg_model, rf_model, xgb_model, svm_model, knn_model, dt_model, gnb_model, perceptron_model, sgd_model]\n",
    "model_names = ['Logistic Regression', 'Random Forest', 'XGBoost', 'SVM', 'KNN', 'Decision Tree', 'Naive Bayes', 'Perceptron', 'Gradient Descent']\n",
    "\n",
    "# Create empty DataFrames for accuracy and mean CV accuracy ranking\n",
    "accuracy_df = pd.DataFrame(columns=['Model', 'Accuracy'])\n",
    "mean_cv_accuracy_df = pd.DataFrame(columns=['Model', 'Mean CV Accuracy', 'Standard Deviation'])\n",
    "\n",
    "# Iterate over the models\n",
    "for model, model_name in zip(models, model_names):\n",
    "    # Train the model\n",
    "    model.fit(X_train_encoded, y_train)\n",
    "\n",
    "    # Make predictions on the test set\n",
    "    predictions = model.predict(X_test_encoded)\n",
    "\n",
    "    # Calculate the accuracy of the model\n",
    "    accuracy = accuracy_score(y_test, predictions)\n",
    "\n",
    "    # Perform cross-validation\n",
    "    cv_scores = cross_val_score(model, X_train_encoded, y_train, cv=10, scoring='accuracy')\n",
    "\n",
    "    # Calculate the mean CV accuracy and standard deviation\n",
    "    mean_cv_accuracy = cv_scores.mean()\n",
    "    std_cv_accuracy = cv_scores.std()\n",
    "\n",
    "    # Add the accuracy to the accuracy DataFrame\n",
    "    accuracy_df = accuracy_df.append({'Model': model_name, 'Accuracy': accuracy}, ignore_index=True)\n",
    "\n",
    "    # Add the mean CV accuracy and std to the mean CV accuracy DataFrame\n",
    "    mean_cv_accuracy_df = mean_cv_accuracy_df.append({'Model': model_name, 'Mean CV Accuracy': mean_cv_accuracy, 'Standard Deviation': std_cv_accuracy}, ignore_index=True)\n",
    "\n",
    "# Sort the DataFrames by accuracy and mean CV accuracy\n",
    "accuracy_df = accuracy_df.sort_values(by='Accuracy', ascending=False)\n",
    "mean_cv_accuracy_df = mean_cv_accuracy_df.sort_values(by='Mean CV Accuracy', ascending=False)"
   ]
  },
  {
   "cell_type": "code",
   "execution_count": 50,
   "metadata": {},
   "outputs": [
    {
     "data": {
      "text/html": [
       "<div>\n",
       "<style scoped>\n",
       "    .dataframe tbody tr th:only-of-type {\n",
       "        vertical-align: middle;\n",
       "    }\n",
       "\n",
       "    .dataframe tbody tr th {\n",
       "        vertical-align: top;\n",
       "    }\n",
       "\n",
       "    .dataframe thead th {\n",
       "        text-align: right;\n",
       "    }\n",
       "</style>\n",
       "<table border=\"1\" class=\"dataframe\">\n",
       "  <thead>\n",
       "    <tr style=\"text-align: right;\">\n",
       "      <th></th>\n",
       "      <th>Model</th>\n",
       "      <th>Accuracy</th>\n",
       "    </tr>\n",
       "  </thead>\n",
       "  <tbody>\n",
       "    <tr>\n",
       "      <th>6</th>\n",
       "      <td>Naive Bayes</td>\n",
       "      <td>0.871508</td>\n",
       "    </tr>\n",
       "    <tr>\n",
       "      <th>3</th>\n",
       "      <td>SVM</td>\n",
       "      <td>0.843575</td>\n",
       "    </tr>\n",
       "    <tr>\n",
       "      <th>8</th>\n",
       "      <td>Gradient Descent</td>\n",
       "      <td>0.837989</td>\n",
       "    </tr>\n",
       "    <tr>\n",
       "      <th>0</th>\n",
       "      <td>Logistic Regression</td>\n",
       "      <td>0.832402</td>\n",
       "    </tr>\n",
       "    <tr>\n",
       "      <th>1</th>\n",
       "      <td>Random Forest</td>\n",
       "      <td>0.826816</td>\n",
       "    </tr>\n",
       "    <tr>\n",
       "      <th>4</th>\n",
       "      <td>KNN</td>\n",
       "      <td>0.804469</td>\n",
       "    </tr>\n",
       "    <tr>\n",
       "      <th>2</th>\n",
       "      <td>XGBoost</td>\n",
       "      <td>0.793296</td>\n",
       "    </tr>\n",
       "    <tr>\n",
       "      <th>5</th>\n",
       "      <td>Decision Tree</td>\n",
       "      <td>0.787709</td>\n",
       "    </tr>\n",
       "    <tr>\n",
       "      <th>7</th>\n",
       "      <td>Perceptron</td>\n",
       "      <td>0.770950</td>\n",
       "    </tr>\n",
       "  </tbody>\n",
       "</table>\n",
       "</div>"
      ],
      "text/plain": [
       "                 Model  Accuracy\n",
       "6          Naive Bayes  0.871508\n",
       "3                  SVM  0.843575\n",
       "8     Gradient Descent  0.837989\n",
       "0  Logistic Regression  0.832402\n",
       "1        Random Forest  0.826816\n",
       "4                  KNN  0.804469\n",
       "2              XGBoost  0.793296\n",
       "5        Decision Tree  0.787709\n",
       "7           Perceptron  0.770950"
      ]
     },
     "execution_count": 50,
     "metadata": {},
     "output_type": "execute_result"
    }
   ],
   "source": [
    "accuracy_df"
   ]
  },
  {
   "cell_type": "code",
   "execution_count": 51,
   "metadata": {},
   "outputs": [
    {
     "data": {
      "text/html": [
       "<div>\n",
       "<style scoped>\n",
       "    .dataframe tbody tr th:only-of-type {\n",
       "        vertical-align: middle;\n",
       "    }\n",
       "\n",
       "    .dataframe tbody tr th {\n",
       "        vertical-align: top;\n",
       "    }\n",
       "\n",
       "    .dataframe thead th {\n",
       "        text-align: right;\n",
       "    }\n",
       "</style>\n",
       "<table border=\"1\" class=\"dataframe\">\n",
       "  <thead>\n",
       "    <tr style=\"text-align: right;\">\n",
       "      <th></th>\n",
       "      <th>Model</th>\n",
       "      <th>Mean CV Accuracy</th>\n",
       "      <th>Standard Deviation</th>\n",
       "    </tr>\n",
       "  </thead>\n",
       "  <tbody>\n",
       "    <tr>\n",
       "      <th>3</th>\n",
       "      <td>SVM</td>\n",
       "      <td>0.827347</td>\n",
       "      <td>0.049079</td>\n",
       "    </tr>\n",
       "    <tr>\n",
       "      <th>2</th>\n",
       "      <td>XGBoost</td>\n",
       "      <td>0.821635</td>\n",
       "      <td>0.047671</td>\n",
       "    </tr>\n",
       "    <tr>\n",
       "      <th>0</th>\n",
       "      <td>Logistic Regression</td>\n",
       "      <td>0.816099</td>\n",
       "      <td>0.048972</td>\n",
       "    </tr>\n",
       "    <tr>\n",
       "      <th>1</th>\n",
       "      <td>Random Forest</td>\n",
       "      <td>0.810329</td>\n",
       "      <td>0.044327</td>\n",
       "    </tr>\n",
       "    <tr>\n",
       "      <th>4</th>\n",
       "      <td>KNN</td>\n",
       "      <td>0.808979</td>\n",
       "      <td>0.045510</td>\n",
       "    </tr>\n",
       "    <tr>\n",
       "      <th>8</th>\n",
       "      <td>Gradient Descent</td>\n",
       "      <td>0.802132</td>\n",
       "      <td>0.059815</td>\n",
       "    </tr>\n",
       "    <tr>\n",
       "      <th>6</th>\n",
       "      <td>Naive Bayes</td>\n",
       "      <td>0.779480</td>\n",
       "      <td>0.067596</td>\n",
       "    </tr>\n",
       "    <tr>\n",
       "      <th>5</th>\n",
       "      <td>Decision Tree</td>\n",
       "      <td>0.772457</td>\n",
       "      <td>0.033732</td>\n",
       "    </tr>\n",
       "    <tr>\n",
       "      <th>7</th>\n",
       "      <td>Perceptron</td>\n",
       "      <td>0.718916</td>\n",
       "      <td>0.093620</td>\n",
       "    </tr>\n",
       "  </tbody>\n",
       "</table>\n",
       "</div>"
      ],
      "text/plain": [
       "                 Model  Mean CV Accuracy  Standard Deviation\n",
       "3                  SVM          0.827347            0.049079\n",
       "2              XGBoost          0.821635            0.047671\n",
       "0  Logistic Regression          0.816099            0.048972\n",
       "1        Random Forest          0.810329            0.044327\n",
       "4                  KNN          0.808979            0.045510\n",
       "8     Gradient Descent          0.802132            0.059815\n",
       "6          Naive Bayes          0.779480            0.067596\n",
       "5        Decision Tree          0.772457            0.033732\n",
       "7           Perceptron          0.718916            0.093620"
      ]
     },
     "execution_count": 51,
     "metadata": {},
     "output_type": "execute_result"
    }
   ],
   "source": [
    "mean_cv_accuracy_df"
   ]
  },
  {
   "attachments": {},
   "cell_type": "markdown",
   "metadata": {},
   "source": [
    "Please note that accuracy_df focuses on the accuracy of models on the test data, while mean_cv_accuracy_df provides insights into how well models perform on average across multiple cross-validation folds. \n",
    "\n",
    "\n",
    "\n",
    "\n"
   ]
  },
  {
   "attachments": {},
   "cell_type": "markdown",
   "metadata": {},
   "source": [
    "#### Feature Selection and Hyperparameter Tuning"
   ]
  },
  {
   "attachments": {},
   "cell_type": "markdown",
   "metadata": {},
   "source": [
    "Given that the SVM model demonstrates the highest Mean CV Accuracy and the second-highest Accuracy among all the models we've tested, we have chosen to proceed with the SVM as our final model for this task. This decision is based on its robust performance in cross-validation and its ability to accurately classify the test data."
   ]
  },
  {
   "cell_type": "code",
   "execution_count": 52,
   "metadata": {},
   "outputs": [
    {
     "name": "stdout",
     "output_type": "stream",
     "text": [
      "Accuracy: 0.8435754189944135\n",
      ">>>>>>>>>>>>>\n",
      "Mean CV Accuracy: 0.8273474178403756\n",
      "Standard Deviation: 0.049078579201668096\n",
      ">>>>>>>>>>>>>\n",
      "Precision: 0.8833333333333333\n",
      "Recall: 0.7162162162162162\n",
      "F1-score: 0.791044776119403\n"
     ]
    }
   ],
   "source": [
    "evaluate_model(svm_model, X_train_encoded, y_train, X_test_encoded, y_test)"
   ]
  },
  {
   "cell_type": "code",
   "execution_count": 53,
   "metadata": {},
   "outputs": [],
   "source": [
    "# best_raw_model = svm_model"
   ]
  },
  {
   "cell_type": "code",
   "execution_count": 54,
   "metadata": {},
   "outputs": [],
   "source": [
    "# from sklearn.inspection import permutation_importance\n",
    "# import matplotlib.pyplot as plt\n",
    "\n",
    "# # Calculate permutation feature importance\n",
    "# perm_importance = permutation_importance(best_raw_model, X_test_encoded, y_test, n_repeats=10, random_state=420)\n",
    "\n",
    "# # Get feature importance scores\n",
    "# feature_importance = perm_importance.importances_mean\n",
    "\n",
    "# # Get feature names\n",
    "# feature_names = X_test_encoded.columns\n",
    "\n",
    "# # Sort features by importance\n",
    "# sorted_idx = feature_importance.argsort()\n",
    "\n",
    "# # Filter features with non-negative importance\n",
    "# non_negative_features = [feature_names[i] for i in sorted_idx if feature_importance[i] >= 0]\n",
    "\n",
    "# # Filter features with negative importance\n",
    "# negative_features = [feature_names[i] for i in sorted_idx if feature_importance[i] < 0]\n",
    "\n",
    "# # Print the negatively scored features\n",
    "# print(\"Negatively scored features:\")\n",
    "# for feature in negative_features:\n",
    "#     print(feature)\n",
    "\n",
    "# # Select only the non-negative features in X_train_encoded and X_test_encoded\n",
    "# X_train_selected = X_train_encoded[non_negative_features]\n",
    "# X_test_selected = X_test_encoded[non_negative_features]\n",
    "\n",
    "# # Fit the model with selected features\n",
    "# feature_selected_model = best_raw_model.fit(X_train_selected, y_train)\n",
    "\n",
    "# # Plot feature importance\n",
    "# plt.barh(range(len(feature_names)), feature_importance[sorted_idx], align='center')\n",
    "# plt.yticks(range(len(feature_names)), [feature_names[i] for i in sorted_idx])\n",
    "# plt.xlabel('Importance Score')\n",
    "# plt.ylabel('Feature')\n",
    "# plt.title('Permutation Feature Importance')\n",
    "# plt.show()\n"
   ]
  },
  {
   "cell_type": "code",
   "execution_count": 55,
   "metadata": {},
   "outputs": [],
   "source": [
    "# evaluate_model(feature_selected_model, X_train_selected, y_train, X_test_selected, y_test)\n"
   ]
  },
  {
   "cell_type": "code",
   "execution_count": 56,
   "metadata": {},
   "outputs": [],
   "source": [
    "# from sklearn.model_selection import GridSearchCV\n",
    "\n",
    "# # Define the parameter grid for grid search\n",
    "# param_grid = {\n",
    "#     'C': [0.1, 1.0, 10],\n",
    "#     'kernel': ['linear', 'rbf', 'sigmoid'],\n",
    "#     'gamma': ['scale', 'auto'],\n",
    "#     }\n",
    "\n",
    "# # Perform grid search with cross-validation\n",
    "# grid_search = GridSearchCV(estimator=feature_selected_model, param_grid=param_grid, cv=5)\n",
    "# grid_search.fit(X_train_encoded, y_train)\n",
    "\n",
    "# # Get the best model from grid search\n",
    "# tuned_model = grid_search.best_estimator_\n",
    "\n",
    "# # Print the best hyperparameters\n",
    "# print(\"Best Hyperparameters:\", grid_search.best_params_)\n",
    "\n",
    "# # Evaluate the best model\n",
    "# evaluate_model(tuned_model, X_train_encoded, y_train, X_test_encoded, y_test)\n"
   ]
  },
  {
   "attachments": {},
   "cell_type": "markdown",
   "metadata": {},
   "source": [
    "### Preprocessing the test data"
   ]
  },
  {
   "cell_type": "code",
   "execution_count": 57,
   "metadata": {},
   "outputs": [],
   "source": [
    "test_data = pd.read_csv('/Users/gabriel/Library/CloudStorage/OneDrive-Pessoal/Data_Science/Projetos/Titanic Survival Prediction /Titanic_ML_from_Disaster/test.csv')"
   ]
  },
  {
   "cell_type": "code",
   "execution_count": 58,
   "metadata": {},
   "outputs": [
    {
     "data": {
      "text/plain": [
       "PassengerId      0\n",
       "Pclass           0\n",
       "Name             0\n",
       "Sex              0\n",
       "Age             86\n",
       "SibSp            0\n",
       "Parch            0\n",
       "Ticket           0\n",
       "Fare             1\n",
       "Cabin          327\n",
       "Embarked         0\n",
       "dtype: int64"
      ]
     },
     "execution_count": 58,
     "metadata": {},
     "output_type": "execute_result"
    }
   ],
   "source": [
    "test_data.isna().sum()"
   ]
  },
  {
   "cell_type": "code",
   "execution_count": 59,
   "metadata": {},
   "outputs": [],
   "source": [
    "# def preprocess_data(data, preprocessor):\n",
    "#     # Fill missing Age values with the median\n",
    "#     data['Age'] = data.apply(lambda row: mean_age_by_pclass[row['Pclass']] if pd.isnull(row['Age']) else row['Age'], axis=1)\n",
    "\n",
    "#     # Fill missing Fare values with the mean of each Pclass\n",
    "#     fare_means = data.groupby('Pclass')['Fare'].mean()\n",
    "#     data['Fare'] = data.groupby('Pclass')['Fare'].apply(lambda x: x.fillna(x.mean()))\n",
    "\n",
    "#     # Drop PassengerId and Ticket columns\n",
    "#     data.drop(['PassengerId', 'Ticket'], axis=1, inplace=True)\n",
    "\n",
    "#     # Modify Family features\n",
    "#     modify_family_features(data)\n",
    "\n",
    "#     # Modify Title features\n",
    "#     modify_title_feature(data)\n",
    "\n",
    "#     # Modify Deck features\n",
    "#     modify_deck_features(data)\n",
    "#     data['Deck'] = data['Deck'].replace('G', 'Unknown')\n",
    "\n",
    "#     # Modify AgeGroup features\n",
    "#     modify_age_features(data)\n",
    "\n",
    "#     # Create Fare features\n",
    "#     create_fare_features(data)\n",
    "\n",
    "#     # Create Age*Pclass\n",
    "#     # create_age_pclass_feature(data)\n",
    "\n",
    "#     # Apply one-hot encoding and standardization\n",
    "#     data_encoded = preprocessor.transform(data)\n",
    "#     data_encoded = pd.DataFrame(data_encoded, columns=preprocessor.get_feature_names_out())\n",
    "\n",
    "#     return data_encoded\n",
    "\n",
    "# # Fit the preprocessor on X_train\n",
    "# preprocessor.fit(X_train)\n",
    "\n",
    "# # Apply the preprocessing to test_data\n",
    "# test_data_encoded = preprocess_data(test_data, preprocessor)\n",
    "\n",
    "# # Drop the negatively scored features from test_data_encoded\n",
    "# test_data_encoded = test_data_encoded.drop(columns=negative_features, errors='ignore')\n",
    "\n",
    "# # Reindex test_data_encoded to match the order of X_train_selected and X_test_selected\n",
    "# test_data_encoded = test_data_encoded.reindex(columns=X_train_selected.columns)\n"
   ]
  },
  {
   "cell_type": "code",
   "execution_count": 60,
   "metadata": {},
   "outputs": [
    {
     "name": "stderr",
     "output_type": "stream",
     "text": [
      "/var/folders/m5/ybf1jmhx2y1c7ryc43kq60cr0000gn/T/ipykernel_3534/3918816350.py:9: UserWarning:\n",
      "\n",
      "Boolean Series key will be reindexed to match DataFrame index.\n",
      "\n"
     ]
    }
   ],
   "source": [
    "def preprocess_data(data, preprocessor):\n",
    "    # Calculate the mean age by Pclass and Sex\n",
    "    mean_age_by_pclass_sex = data.groupby(['Pclass', 'Sex'])['Age'].mean()\n",
    "\n",
    "    # Fill missing Age values based on Pclass and Sex\n",
    "    data['Age'] = data.apply(lambda row: mean_age_by_pclass_sex[row['Pclass'], row['Sex']] if pd.isnull(row['Age']) else row['Age'], axis=1)\n",
    "\n",
    "    # Fill missing Fare values with the mean of each Pclass for passengers with SibSp = 0 and Parch = 0\n",
    "    fare_means_sibsp_parch_0 = data[data['SibSp'] == 0][data['Parch'] == 0].groupby('Pclass')['Fare'].mean()\n",
    "    data['Fare'] = data.apply(\n",
    "    lambda row: fare_means_sibsp_parch_0[row['Pclass']] if pd.isnull(row['Fare']) and row['SibSp'] == 0 and row['Parch'] == 0 else row['Fare'],\n",
    "    axis=1  \n",
    "    )\n",
    "\n",
    "    # Drop PassengerId and Ticket columns\n",
    "    data.drop(['PassengerId', 'Ticket'], axis=1, inplace=True)\n",
    "\n",
    "    # Modify Family features\n",
    "    modify_family_features(data)\n",
    "\n",
    "    # Modify Title features\n",
    "    modify_title_feature(data)\n",
    "\n",
    "    # Modify Deck features\n",
    "    modify_deck_features(data)\n",
    "\n",
    "    # Modify AgeGroup features\n",
    "    modify_age_features(data)\n",
    "\n",
    "    # Create Fare features\n",
    "    create_fare_features(data)\n",
    "\n",
    "    # Create Age*Pclass\n",
    "    create_age_pclass_feature(data)\n",
    "\n",
    "    #Creat Deck*Embarked\n",
    "    # combine_deck_embarked(data)\n",
    "\n",
    "    # Apply one-hot encoding and standardization\n",
    "    data_encoded = preprocessor.transform(data)\n",
    "    data_encoded = pd.DataFrame(data_encoded, columns=preprocessor.get_feature_names_out())\n",
    "\n",
    "    return data_encoded\n",
    "\n",
    "# # Fit the preprocessor on X_train\n",
    "# preprocessor.fit(X_train)\n",
    "\n",
    "# Apply the preprocessing to test_data\n",
    "test_data_encoded = preprocess_data(test_data, preprocessor)\n",
    "\n",
    "# # Drop the negatively scored features from test_data_encoded\n",
    "# test_data_encoded = test_data_encoded.drop(columns=negative_features, errors='ignore')\n",
    "\n",
    "# # Reindex test_data_encoded to match the order of X_train_selected and X_test_selected\n",
    "# test_data_encoded = test_data_encoded.reindex(columns=X_train_selected.columns)\n"
   ]
  },
  {
   "cell_type": "code",
   "execution_count": 61,
   "metadata": {},
   "outputs": [
    {
     "data": {
      "text/html": [
       "<div>\n",
       "<style scoped>\n",
       "    .dataframe tbody tr th:only-of-type {\n",
       "        vertical-align: middle;\n",
       "    }\n",
       "\n",
       "    .dataframe tbody tr th {\n",
       "        vertical-align: top;\n",
       "    }\n",
       "\n",
       "    .dataframe thead th {\n",
       "        text-align: right;\n",
       "    }\n",
       "</style>\n",
       "<table border=\"1\" class=\"dataframe\">\n",
       "  <thead>\n",
       "    <tr style=\"text-align: right;\">\n",
       "      <th></th>\n",
       "      <th>cat__Sex_female</th>\n",
       "      <th>cat__Sex_male</th>\n",
       "      <th>cat__Embarked_C</th>\n",
       "      <th>cat__Embarked_Q</th>\n",
       "      <th>cat__Embarked_S</th>\n",
       "      <th>cat__Title_Aristocrats/Military/Honorifics</th>\n",
       "      <th>cat__Title_Master</th>\n",
       "      <th>cat__Title_Miss</th>\n",
       "      <th>cat__Title_Mr</th>\n",
       "      <th>cat__Title_Mrs</th>\n",
       "      <th>...</th>\n",
       "      <th>cat__AgeGroup_Adulthood</th>\n",
       "      <th>cat__AgeGroup_Children</th>\n",
       "      <th>cat__AgeGroup_Early Adulthood</th>\n",
       "      <th>cat__AgeGroup_Elderly</th>\n",
       "      <th>cat__AgeGroup_Infant</th>\n",
       "      <th>num__Age</th>\n",
       "      <th>num__FamilySize</th>\n",
       "      <th>num__Pclass</th>\n",
       "      <th>num__AgePclass</th>\n",
       "      <th>logfare__LogFarePerPerson</th>\n",
       "    </tr>\n",
       "  </thead>\n",
       "  <tbody>\n",
       "    <tr>\n",
       "      <th>0</th>\n",
       "      <td>0.0</td>\n",
       "      <td>1.0</td>\n",
       "      <td>0.0</td>\n",
       "      <td>1.0</td>\n",
       "      <td>0.0</td>\n",
       "      <td>0.0</td>\n",
       "      <td>0.0</td>\n",
       "      <td>0.0</td>\n",
       "      <td>1.0</td>\n",
       "      <td>0.0</td>\n",
       "      <td>...</td>\n",
       "      <td>1.0</td>\n",
       "      <td>0.0</td>\n",
       "      <td>0.0</td>\n",
       "      <td>0.0</td>\n",
       "      <td>0.0</td>\n",
       "      <td>0.394370</td>\n",
       "      <td>-0.568721</td>\n",
       "      <td>0.828228</td>\n",
       "      <td>1.330831</td>\n",
       "      <td>2.079442</td>\n",
       "    </tr>\n",
       "    <tr>\n",
       "      <th>1</th>\n",
       "      <td>1.0</td>\n",
       "      <td>0.0</td>\n",
       "      <td>0.0</td>\n",
       "      <td>0.0</td>\n",
       "      <td>1.0</td>\n",
       "      <td>0.0</td>\n",
       "      <td>0.0</td>\n",
       "      <td>0.0</td>\n",
       "      <td>0.0</td>\n",
       "      <td>1.0</td>\n",
       "      <td>...</td>\n",
       "      <td>1.0</td>\n",
       "      <td>0.0</td>\n",
       "      <td>0.0</td>\n",
       "      <td>0.0</td>\n",
       "      <td>0.0</td>\n",
       "      <td>1.361078</td>\n",
       "      <td>0.050437</td>\n",
       "      <td>0.828228</td>\n",
       "      <td>2.606797</td>\n",
       "      <td>1.504077</td>\n",
       "    </tr>\n",
       "    <tr>\n",
       "      <th>2</th>\n",
       "      <td>0.0</td>\n",
       "      <td>1.0</td>\n",
       "      <td>0.0</td>\n",
       "      <td>1.0</td>\n",
       "      <td>0.0</td>\n",
       "      <td>0.0</td>\n",
       "      <td>0.0</td>\n",
       "      <td>0.0</td>\n",
       "      <td>1.0</td>\n",
       "      <td>0.0</td>\n",
       "      <td>...</td>\n",
       "      <td>1.0</td>\n",
       "      <td>0.0</td>\n",
       "      <td>0.0</td>\n",
       "      <td>0.0</td>\n",
       "      <td>0.0</td>\n",
       "      <td>2.476511</td>\n",
       "      <td>-0.568721</td>\n",
       "      <td>-0.367914</td>\n",
       "      <td>2.050607</td>\n",
       "      <td>2.302585</td>\n",
       "    </tr>\n",
       "    <tr>\n",
       "      <th>3</th>\n",
       "      <td>0.0</td>\n",
       "      <td>1.0</td>\n",
       "      <td>0.0</td>\n",
       "      <td>0.0</td>\n",
       "      <td>1.0</td>\n",
       "      <td>0.0</td>\n",
       "      <td>0.0</td>\n",
       "      <td>0.0</td>\n",
       "      <td>1.0</td>\n",
       "      <td>0.0</td>\n",
       "      <td>...</td>\n",
       "      <td>0.0</td>\n",
       "      <td>0.0</td>\n",
       "      <td>1.0</td>\n",
       "      <td>0.0</td>\n",
       "      <td>0.0</td>\n",
       "      <td>-0.126165</td>\n",
       "      <td>-0.568721</td>\n",
       "      <td>0.828228</td>\n",
       "      <td>0.643773</td>\n",
       "      <td>2.197225</td>\n",
       "    </tr>\n",
       "    <tr>\n",
       "      <th>4</th>\n",
       "      <td>1.0</td>\n",
       "      <td>0.0</td>\n",
       "      <td>0.0</td>\n",
       "      <td>0.0</td>\n",
       "      <td>1.0</td>\n",
       "      <td>0.0</td>\n",
       "      <td>0.0</td>\n",
       "      <td>0.0</td>\n",
       "      <td>0.0</td>\n",
       "      <td>1.0</td>\n",
       "      <td>...</td>\n",
       "      <td>0.0</td>\n",
       "      <td>0.0</td>\n",
       "      <td>1.0</td>\n",
       "      <td>0.0</td>\n",
       "      <td>0.0</td>\n",
       "      <td>-0.497976</td>\n",
       "      <td>0.669596</td>\n",
       "      <td>0.828228</td>\n",
       "      <td>0.153017</td>\n",
       "      <td>1.609438</td>\n",
       "    </tr>\n",
       "    <tr>\n",
       "      <th>...</th>\n",
       "      <td>...</td>\n",
       "      <td>...</td>\n",
       "      <td>...</td>\n",
       "      <td>...</td>\n",
       "      <td>...</td>\n",
       "      <td>...</td>\n",
       "      <td>...</td>\n",
       "      <td>...</td>\n",
       "      <td>...</td>\n",
       "      <td>...</td>\n",
       "      <td>...</td>\n",
       "      <td>...</td>\n",
       "      <td>...</td>\n",
       "      <td>...</td>\n",
       "      <td>...</td>\n",
       "      <td>...</td>\n",
       "      <td>...</td>\n",
       "      <td>...</td>\n",
       "      <td>...</td>\n",
       "      <td>...</td>\n",
       "      <td>...</td>\n",
       "    </tr>\n",
       "    <tr>\n",
       "      <th>413</th>\n",
       "      <td>0.0</td>\n",
       "      <td>1.0</td>\n",
       "      <td>0.0</td>\n",
       "      <td>0.0</td>\n",
       "      <td>1.0</td>\n",
       "      <td>0.0</td>\n",
       "      <td>0.0</td>\n",
       "      <td>0.0</td>\n",
       "      <td>1.0</td>\n",
       "      <td>0.0</td>\n",
       "      <td>...</td>\n",
       "      <td>0.0</td>\n",
       "      <td>0.0</td>\n",
       "      <td>1.0</td>\n",
       "      <td>0.0</td>\n",
       "      <td>0.0</td>\n",
       "      <td>-0.349252</td>\n",
       "      <td>-0.568721</td>\n",
       "      <td>0.828228</td>\n",
       "      <td>0.349319</td>\n",
       "      <td>2.197225</td>\n",
       "    </tr>\n",
       "    <tr>\n",
       "      <th>414</th>\n",
       "      <td>1.0</td>\n",
       "      <td>0.0</td>\n",
       "      <td>1.0</td>\n",
       "      <td>0.0</td>\n",
       "      <td>0.0</td>\n",
       "      <td>1.0</td>\n",
       "      <td>0.0</td>\n",
       "      <td>0.0</td>\n",
       "      <td>0.0</td>\n",
       "      <td>0.0</td>\n",
       "      <td>...</td>\n",
       "      <td>1.0</td>\n",
       "      <td>0.0</td>\n",
       "      <td>0.0</td>\n",
       "      <td>0.0</td>\n",
       "      <td>0.0</td>\n",
       "      <td>0.766181</td>\n",
       "      <td>-0.568721</td>\n",
       "      <td>-1.564057</td>\n",
       "      <td>-0.730344</td>\n",
       "      <td>4.691348</td>\n",
       "    </tr>\n",
       "    <tr>\n",
       "      <th>415</th>\n",
       "      <td>0.0</td>\n",
       "      <td>1.0</td>\n",
       "      <td>0.0</td>\n",
       "      <td>0.0</td>\n",
       "      <td>1.0</td>\n",
       "      <td>0.0</td>\n",
       "      <td>0.0</td>\n",
       "      <td>0.0</td>\n",
       "      <td>1.0</td>\n",
       "      <td>0.0</td>\n",
       "      <td>...</td>\n",
       "      <td>1.0</td>\n",
       "      <td>0.0</td>\n",
       "      <td>0.0</td>\n",
       "      <td>0.0</td>\n",
       "      <td>0.0</td>\n",
       "      <td>0.691819</td>\n",
       "      <td>-0.568721</td>\n",
       "      <td>0.828228</td>\n",
       "      <td>1.723436</td>\n",
       "      <td>2.079442</td>\n",
       "    </tr>\n",
       "    <tr>\n",
       "      <th>416</th>\n",
       "      <td>0.0</td>\n",
       "      <td>1.0</td>\n",
       "      <td>0.0</td>\n",
       "      <td>0.0</td>\n",
       "      <td>1.0</td>\n",
       "      <td>0.0</td>\n",
       "      <td>0.0</td>\n",
       "      <td>0.0</td>\n",
       "      <td>1.0</td>\n",
       "      <td>0.0</td>\n",
       "      <td>...</td>\n",
       "      <td>0.0</td>\n",
       "      <td>0.0</td>\n",
       "      <td>1.0</td>\n",
       "      <td>0.0</td>\n",
       "      <td>0.0</td>\n",
       "      <td>-0.349252</td>\n",
       "      <td>-0.568721</td>\n",
       "      <td>0.828228</td>\n",
       "      <td>0.349319</td>\n",
       "      <td>2.197225</td>\n",
       "    </tr>\n",
       "    <tr>\n",
       "      <th>417</th>\n",
       "      <td>0.0</td>\n",
       "      <td>1.0</td>\n",
       "      <td>1.0</td>\n",
       "      <td>0.0</td>\n",
       "      <td>0.0</td>\n",
       "      <td>0.0</td>\n",
       "      <td>1.0</td>\n",
       "      <td>0.0</td>\n",
       "      <td>0.0</td>\n",
       "      <td>0.0</td>\n",
       "      <td>...</td>\n",
       "      <td>0.0</td>\n",
       "      <td>0.0</td>\n",
       "      <td>1.0</td>\n",
       "      <td>0.0</td>\n",
       "      <td>0.0</td>\n",
       "      <td>-0.349252</td>\n",
       "      <td>0.669596</td>\n",
       "      <td>0.828228</td>\n",
       "      <td>0.349319</td>\n",
       "      <td>2.120264</td>\n",
       "    </tr>\n",
       "  </tbody>\n",
       "</table>\n",
       "<p>418 rows × 29 columns</p>\n",
       "</div>"
      ],
      "text/plain": [
       "     cat__Sex_female  cat__Sex_male  cat__Embarked_C  cat__Embarked_Q  \\\n",
       "0                0.0            1.0              0.0              1.0   \n",
       "1                1.0            0.0              0.0              0.0   \n",
       "2                0.0            1.0              0.0              1.0   \n",
       "3                0.0            1.0              0.0              0.0   \n",
       "4                1.0            0.0              0.0              0.0   \n",
       "..               ...            ...              ...              ...   \n",
       "413              0.0            1.0              0.0              0.0   \n",
       "414              1.0            0.0              1.0              0.0   \n",
       "415              0.0            1.0              0.0              0.0   \n",
       "416              0.0            1.0              0.0              0.0   \n",
       "417              0.0            1.0              1.0              0.0   \n",
       "\n",
       "     cat__Embarked_S  cat__Title_Aristocrats/Military/Honorifics  \\\n",
       "0                0.0                                         0.0   \n",
       "1                1.0                                         0.0   \n",
       "2                0.0                                         0.0   \n",
       "3                1.0                                         0.0   \n",
       "4                1.0                                         0.0   \n",
       "..               ...                                         ...   \n",
       "413              1.0                                         0.0   \n",
       "414              0.0                                         1.0   \n",
       "415              1.0                                         0.0   \n",
       "416              1.0                                         0.0   \n",
       "417              0.0                                         0.0   \n",
       "\n",
       "     cat__Title_Master  cat__Title_Miss  cat__Title_Mr  cat__Title_Mrs  ...  \\\n",
       "0                  0.0              0.0            1.0             0.0  ...   \n",
       "1                  0.0              0.0            0.0             1.0  ...   \n",
       "2                  0.0              0.0            1.0             0.0  ...   \n",
       "3                  0.0              0.0            1.0             0.0  ...   \n",
       "4                  0.0              0.0            0.0             1.0  ...   \n",
       "..                 ...              ...            ...             ...  ...   \n",
       "413                0.0              0.0            1.0             0.0  ...   \n",
       "414                0.0              0.0            0.0             0.0  ...   \n",
       "415                0.0              0.0            1.0             0.0  ...   \n",
       "416                0.0              0.0            1.0             0.0  ...   \n",
       "417                1.0              0.0            0.0             0.0  ...   \n",
       "\n",
       "     cat__AgeGroup_Adulthood  cat__AgeGroup_Children  \\\n",
       "0                        1.0                     0.0   \n",
       "1                        1.0                     0.0   \n",
       "2                        1.0                     0.0   \n",
       "3                        0.0                     0.0   \n",
       "4                        0.0                     0.0   \n",
       "..                       ...                     ...   \n",
       "413                      0.0                     0.0   \n",
       "414                      1.0                     0.0   \n",
       "415                      1.0                     0.0   \n",
       "416                      0.0                     0.0   \n",
       "417                      0.0                     0.0   \n",
       "\n",
       "     cat__AgeGroup_Early Adulthood  cat__AgeGroup_Elderly  \\\n",
       "0                              0.0                    0.0   \n",
       "1                              0.0                    0.0   \n",
       "2                              0.0                    0.0   \n",
       "3                              1.0                    0.0   \n",
       "4                              1.0                    0.0   \n",
       "..                             ...                    ...   \n",
       "413                            1.0                    0.0   \n",
       "414                            0.0                    0.0   \n",
       "415                            0.0                    0.0   \n",
       "416                            1.0                    0.0   \n",
       "417                            1.0                    0.0   \n",
       "\n",
       "     cat__AgeGroup_Infant  num__Age  num__FamilySize  num__Pclass  \\\n",
       "0                     0.0  0.394370        -0.568721     0.828228   \n",
       "1                     0.0  1.361078         0.050437     0.828228   \n",
       "2                     0.0  2.476511        -0.568721    -0.367914   \n",
       "3                     0.0 -0.126165        -0.568721     0.828228   \n",
       "4                     0.0 -0.497976         0.669596     0.828228   \n",
       "..                    ...       ...              ...          ...   \n",
       "413                   0.0 -0.349252        -0.568721     0.828228   \n",
       "414                   0.0  0.766181        -0.568721    -1.564057   \n",
       "415                   0.0  0.691819        -0.568721     0.828228   \n",
       "416                   0.0 -0.349252        -0.568721     0.828228   \n",
       "417                   0.0 -0.349252         0.669596     0.828228   \n",
       "\n",
       "     num__AgePclass  logfare__LogFarePerPerson  \n",
       "0          1.330831                   2.079442  \n",
       "1          2.606797                   1.504077  \n",
       "2          2.050607                   2.302585  \n",
       "3          0.643773                   2.197225  \n",
       "4          0.153017                   1.609438  \n",
       "..              ...                        ...  \n",
       "413        0.349319                   2.197225  \n",
       "414       -0.730344                   4.691348  \n",
       "415        1.723436                   2.079442  \n",
       "416        0.349319                   2.197225  \n",
       "417        0.349319                   2.120264  \n",
       "\n",
       "[418 rows x 29 columns]"
      ]
     },
     "execution_count": 61,
     "metadata": {},
     "output_type": "execute_result"
    }
   ],
   "source": [
    "test_data_encoded"
   ]
  },
  {
   "cell_type": "code",
   "execution_count": 62,
   "metadata": {},
   "outputs": [
    {
     "data": {
      "text/plain": [
       "Index(['cat__Sex_female', 'cat__Sex_male', 'cat__Embarked_C',\n",
       "       'cat__Embarked_Q', 'cat__Embarked_S',\n",
       "       'cat__Title_Aristocrats/Military/Honorifics', 'cat__Title_Master',\n",
       "       'cat__Title_Miss', 'cat__Title_Mr', 'cat__Title_Mrs', 'cat__Deck_A-B-C',\n",
       "       'cat__Deck_D-E', 'cat__Deck_F', 'cat__Deck_Unknown',\n",
       "       'cat__FamilySizeCategory_Alone', 'cat__FamilySizeCategory_Large',\n",
       "       'cat__FamilySizeCategory_Medium', 'cat__FamilySizeCategory_Small',\n",
       "       'cat__AgeGroup_Adolescence', 'cat__AgeGroup_Adulthood',\n",
       "       'cat__AgeGroup_Children', 'cat__AgeGroup_Early Adulthood',\n",
       "       'cat__AgeGroup_Elderly', 'cat__AgeGroup_Infant', 'num__Age',\n",
       "       'num__FamilySize', 'num__Pclass', 'num__AgePclass',\n",
       "       'logfare__LogFarePerPerson'],\n",
       "      dtype='object')"
      ]
     },
     "execution_count": 62,
     "metadata": {},
     "output_type": "execute_result"
    }
   ],
   "source": [
    "test_data_encoded.columns"
   ]
  },
  {
   "attachments": {},
   "cell_type": "markdown",
   "metadata": {},
   "source": [
    "### Making Predictions"
   ]
  },
  {
   "cell_type": "code",
   "execution_count": 63,
   "metadata": {},
   "outputs": [],
   "source": [
    "final_model_submission_predictions = svm_model.predict(test_data_encoded)"
   ]
  },
  {
   "cell_type": "code",
   "execution_count": 64,
   "metadata": {},
   "outputs": [
    {
     "data": {
      "text/plain": [
       "array([0, 0, 0, 0, 1, 0, 1, 0, 1, 0, 0, 0, 1, 0, 1, 1, 0, 0, 0, 0, 0, 1,\n",
       "       1, 0, 1, 0, 1, 0, 0, 0, 0, 0, 0, 0, 0, 0, 1, 1, 0, 0, 0, 0, 0, 1,\n",
       "       1, 0, 0, 0, 1, 0, 0, 0, 1, 1, 0, 0, 0, 0, 0, 1, 0, 0, 0, 1, 1, 1,\n",
       "       1, 0, 0, 1, 1, 0, 0, 0, 1, 0, 0, 1, 0, 1, 1, 0, 0, 0, 0, 0, 1, 1,\n",
       "       1, 1, 1, 0, 1, 0, 0, 0, 1, 0, 1, 0, 1, 0, 0, 0, 1, 0, 0, 0, 0, 0,\n",
       "       0, 1, 1, 1, 1, 0, 0, 1, 0, 1, 1, 0, 1, 0, 0, 1, 0, 1, 0, 0, 0, 0,\n",
       "       0, 0, 0, 0, 0, 0, 1, 0, 0, 1, 0, 0, 0, 0, 0, 0, 0, 0, 1, 0, 0, 0,\n",
       "       0, 0, 1, 1, 0, 1, 1, 1, 1, 0, 0, 1, 0, 0, 1, 1, 0, 0, 0, 0, 0, 1,\n",
       "       1, 0, 1, 1, 0, 0, 1, 0, 1, 0, 1, 0, 0, 0, 0, 0, 1, 0, 1, 0, 1, 1,\n",
       "       0, 1, 1, 1, 0, 1, 0, 0, 0, 0, 1, 0, 0, 0, 0, 1, 0, 0, 1, 0, 1, 0,\n",
       "       1, 0, 1, 0, 1, 1, 0, 1, 0, 0, 0, 1, 0, 0, 0, 0, 0, 0, 1, 1, 1, 1,\n",
       "       0, 0, 0, 0, 1, 0, 1, 1, 1, 0, 0, 0, 0, 0, 0, 0, 1, 0, 0, 0, 1, 1,\n",
       "       0, 0, 0, 0, 1, 0, 0, 0, 1, 1, 0, 1, 0, 0, 0, 0, 1, 1, 1, 1, 1, 0,\n",
       "       0, 0, 0, 0, 0, 1, 0, 0, 0, 0, 1, 0, 0, 0, 0, 0, 0, 0, 1, 1, 0, 1,\n",
       "       0, 0, 0, 0, 0, 0, 1, 1, 0, 0, 0, 0, 0, 0, 0, 0, 1, 0, 1, 0, 0, 0,\n",
       "       1, 0, 0, 1, 0, 0, 0, 0, 0, 0, 0, 0, 0, 1, 0, 1, 0, 1, 0, 1, 1, 0,\n",
       "       0, 0, 1, 0, 1, 0, 0, 1, 0, 1, 1, 0, 1, 0, 0, 1, 1, 0, 0, 1, 0, 0,\n",
       "       1, 1, 0, 0, 0, 0, 0, 0, 1, 1, 0, 1, 0, 0, 0, 0, 0, 1, 1, 0, 0, 1,\n",
       "       0, 1, 0, 0, 1, 0, 1, 0, 0, 0, 0, 0, 1, 1, 1, 1, 0, 0, 1, 0, 0, 0])"
      ]
     },
     "execution_count": 64,
     "metadata": {},
     "output_type": "execute_result"
    }
   ],
   "source": [
    "final_model_submission_predictions"
   ]
  },
  {
   "attachments": {},
   "cell_type": "markdown",
   "metadata": {},
   "source": [
    "### Creating File to Submit on Kaggle"
   ]
  },
  {
   "cell_type": "code",
   "execution_count": 65,
   "metadata": {},
   "outputs": [],
   "source": [
    "passenger_ids = pd.read_csv('/Users/gabriel/Library/CloudStorage/OneDrive-Pessoal/Data_Science/Projetos/Titanic Survival Prediction /Titanic_ML_from_Disaster/gender_submission.csv')\n",
    "test_ids = passenger_ids['PassengerId']\n",
    "df = pd.DataFrame({'PassengerId' : test_ids, 'Survived' : final_model_submission_predictions})"
   ]
  },
  {
   "cell_type": "code",
   "execution_count": 66,
   "metadata": {},
   "outputs": [],
   "source": [
    "df.to_csv('submission.csv', index = False)"
   ]
  },
  {
   "cell_type": "code",
   "execution_count": 67,
   "metadata": {},
   "outputs": [
    {
     "data": {
      "text/html": [
       "<div>\n",
       "<style scoped>\n",
       "    .dataframe tbody tr th:only-of-type {\n",
       "        vertical-align: middle;\n",
       "    }\n",
       "\n",
       "    .dataframe tbody tr th {\n",
       "        vertical-align: top;\n",
       "    }\n",
       "\n",
       "    .dataframe thead th {\n",
       "        text-align: right;\n",
       "    }\n",
       "</style>\n",
       "<table border=\"1\" class=\"dataframe\">\n",
       "  <thead>\n",
       "    <tr style=\"text-align: right;\">\n",
       "      <th></th>\n",
       "      <th>PassengerId</th>\n",
       "      <th>Survived</th>\n",
       "    </tr>\n",
       "  </thead>\n",
       "  <tbody>\n",
       "    <tr>\n",
       "      <th>0</th>\n",
       "      <td>892</td>\n",
       "      <td>0</td>\n",
       "    </tr>\n",
       "    <tr>\n",
       "      <th>1</th>\n",
       "      <td>893</td>\n",
       "      <td>0</td>\n",
       "    </tr>\n",
       "    <tr>\n",
       "      <th>2</th>\n",
       "      <td>894</td>\n",
       "      <td>0</td>\n",
       "    </tr>\n",
       "    <tr>\n",
       "      <th>3</th>\n",
       "      <td>895</td>\n",
       "      <td>0</td>\n",
       "    </tr>\n",
       "    <tr>\n",
       "      <th>4</th>\n",
       "      <td>896</td>\n",
       "      <td>1</td>\n",
       "    </tr>\n",
       "    <tr>\n",
       "      <th>...</th>\n",
       "      <td>...</td>\n",
       "      <td>...</td>\n",
       "    </tr>\n",
       "    <tr>\n",
       "      <th>413</th>\n",
       "      <td>1305</td>\n",
       "      <td>0</td>\n",
       "    </tr>\n",
       "    <tr>\n",
       "      <th>414</th>\n",
       "      <td>1306</td>\n",
       "      <td>1</td>\n",
       "    </tr>\n",
       "    <tr>\n",
       "      <th>415</th>\n",
       "      <td>1307</td>\n",
       "      <td>0</td>\n",
       "    </tr>\n",
       "    <tr>\n",
       "      <th>416</th>\n",
       "      <td>1308</td>\n",
       "      <td>0</td>\n",
       "    </tr>\n",
       "    <tr>\n",
       "      <th>417</th>\n",
       "      <td>1309</td>\n",
       "      <td>0</td>\n",
       "    </tr>\n",
       "  </tbody>\n",
       "</table>\n",
       "<p>418 rows × 2 columns</p>\n",
       "</div>"
      ],
      "text/plain": [
       "     PassengerId  Survived\n",
       "0            892         0\n",
       "1            893         0\n",
       "2            894         0\n",
       "3            895         0\n",
       "4            896         1\n",
       "..           ...       ...\n",
       "413         1305         0\n",
       "414         1306         1\n",
       "415         1307         0\n",
       "416         1308         0\n",
       "417         1309         0\n",
       "\n",
       "[418 rows x 2 columns]"
      ]
     },
     "execution_count": 67,
     "metadata": {},
     "output_type": "execute_result"
    }
   ],
   "source": [
    "submission = pd.read_csv('submission.csv')\n",
    "submission"
   ]
  },
  {
   "cell_type": "code",
   "execution_count": null,
   "metadata": {},
   "outputs": [],
   "source": []
  }
 ],
 "metadata": {
  "kernelspec": {
   "display_name": "base",
   "language": "python",
   "name": "python3"
  },
  "language_info": {
   "codemirror_mode": {
    "name": "ipython",
    "version": 3
   },
   "file_extension": ".py",
   "mimetype": "text/x-python",
   "name": "python",
   "nbconvert_exporter": "python",
   "pygments_lexer": "ipython3",
   "version": "3.9.13"
  },
  "orig_nbformat": 4,
  "vscode": {
   "interpreter": {
    "hash": "08a4db9fd6b1c18f9d05f78d14719cb75a956a700a06fd5251597c4dabbe2b2a"
   }
  }
 },
 "nbformat": 4,
 "nbformat_minor": 2
}
